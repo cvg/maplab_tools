{
 "cells": [
  {
   "cell_type": "markdown",
   "metadata": {},
   "source": [
    "# Raw Evaluation wrt GT"
   ]
  },
  {
   "cell_type": "code",
   "execution_count": 15,
   "metadata": {},
   "outputs": [],
   "source": [
    "%matplotlib widget\n",
    "\n",
    "import numpy as np\n",
    "import matplotlib.pyplot as plt\n",
    "from mpl_toolkits.mplot3d import axes3d \n",
    "\n",
    "import pandas as pd\n",
    "import os\n",
    "import pprint\n",
    "\n",
    "from evo.core.trajectory import PoseTrajectory3D\n",
    "from evo.tools import plot\n",
    "from evo.core import metrics\n",
    "from evo.core import sync\n",
    "\n",
    "%reload_ext autoreload\n",
    "%autoreload 2"
   ]
  },
  {
   "cell_type": "code",
   "execution_count": 9,
   "metadata": {},
   "outputs": [
    {
     "name": "stdout",
     "output_type": "stream",
     "text": [
      "Loaded 1 missions.\n",
      "GT poses: 2561\n",
      "Compslam poses: 3230\n"
     ]
    }
   ],
   "source": [
    "export_path = '/mnt/data/datasets/fgsp/gt/h_floor_anymal_1/'\n",
    "n = 0\n",
    "\n",
    "compslam_trajectories = []\n",
    "gt_trajectories = []\n",
    "\n",
    "for i in range(0, n+1):\n",
    "    compslam_traj_filename = export_path + 'compslam.npy'\n",
    "    gt_traj_filename = export_path + 'gt.npy'\n",
    "\n",
    "    compslam_trajectories.append(np.load(compslam_traj_filename))\n",
    "    gt_trajectories.append(np.load(gt_traj_filename))\n",
    "assert len(gt_trajectories) == len(compslam_trajectories)\n",
    "\n",
    "\n",
    "print(f'Loaded {len(gt_trajectories)} missions.')\n",
    "print(f'GT poses: {gt_trajectories[0].shape[0]}')\n",
    "print(f'Compslam poses: {compslam_trajectories[0].shape[0]}')"
   ]
  },
  {
   "cell_type": "code",
   "execution_count": 23,
   "metadata": {},
   "outputs": [
    {
     "data": {
      "text/plain": [
       "(array([[ 3.97244369e-01, -9.17712684e-01,  5.83331653e-04],\n",
       "        [ 9.17656728e-01,  3.97212956e-01, -1.13135790e-02],\n",
       "        [ 1.01509081e-02,  5.02955378e-03,  9.99935829e-01]]),\n",
       " array([-2.33033979, -0.72228138,  0.95085114]),\n",
       " 1.0)"
      ]
     },
     "execution_count": 23,
     "metadata": {},
     "output_type": "execute_result"
    }
   ],
   "source": [
    "def convert_to_traj(trajectory):\n",
    "    ts = trajectory[:,0]\n",
    "    xyz = trajectory[:,1:4]\n",
    "    wxyz = trajectory[:,4:8]\n",
    "    return PoseTrajectory3D(positions_xyz = xyz, orientations_quat_wxyz = wxyz, timestamps = ts)\n",
    "\n",
    "idx = 0\n",
    "\n",
    "compslam_traj = convert_to_traj(compslam_trajectories[idx])\n",
    "gt_traj = convert_to_traj(gt_trajectories[idx])\n",
    "\n",
    "max_diff = 0.01\n",
    "gt_traj, compslam_traj = sync.associate_trajectories(gt_traj, compslam_traj, max_diff)\n",
    "# compslam_traj.align(gt_traj, correct_scale=False, correct_only_scale=False)\n",
    "gt_traj.align(compslam_traj, correct_scale=False, correct_only_scale=False)"
   ]
  },
  {
   "cell_type": "code",
   "execution_count": 24,
   "metadata": {},
   "outputs": [
    {
     "name": "stdout",
     "output_type": "stream",
     "text": [
      "--- Translational Part -----------------------------\n",
      "APE:\n",
      "{'max': 1.917590130321977,\n",
      " 'mean': 0.23640019439710225,\n",
      " 'median': 0.21460864411486913,\n",
      " 'min': 0.0318689257021198,\n",
      " 'rmse': 0.25400060143824854,\n",
      " 'sse': 160.12947032792212,\n",
      " 'std': 0.09290454036269845}\n",
      "RPE:\n",
      "{'max': 1.7417836852541873,\n",
      " 'mean': 0.05591889698608506,\n",
      " 'median': 0.0429839533782928,\n",
      " 'min': 0.004581465890694848,\n",
      " 'rmse': 0.10082997562949984,\n",
      " 'sse': 5.042675256780984,\n",
      " 'std': 0.08390328328084151}\n",
      "\n",
      "\n",
      "\n",
      "--- Rotational Part -----------------------------\n",
      "APE:\n",
      "{'max': 90.1547445664446,\n",
      " 'mean': 2.6426088322252834,\n",
      " 'median': 2.3414594796437216,\n",
      " 'min': 0.05916485423879902,\n",
      " 'rmse': 3.481428435435587,\n",
      " 'sse': 30082.693686529627,\n",
      " 'std': 2.266486821250987}\n",
      "RPE:\n",
      "{'max': 89.70016455407675,\n",
      " 'mean': 1.710818251334902,\n",
      " 'median': 1.269009579072375,\n",
      " 'min': 0.03357722585200684,\n",
      " 'rmse': 4.5702358532161504,\n",
      " 'sse': 10359.979653995088,\n",
      " 'std': 4.237942503730053}\n"
     ]
    },
    {
     "name": "stderr",
     "output_type": "stream",
     "text": [
      "/usr/local/lib/python3.6/dist-packages/matplotlib/__init__.py:941: MatplotlibDeprecationWarning: nbagg.transparent is deprecated and ignored. Use figure.facecolor instead.\n",
      "  mplDeprecation)\n"
     ]
    },
    {
     "data": {
      "application/vnd.jupyter.widget-view+json": {
       "model_id": "b994971c9444474ab13e79eac62a95ad",
       "version_major": 2,
       "version_minor": 0
      },
      "text/plain": [
       "Canvas(toolbar=Toolbar(toolitems=[('Home', 'Reset original view', 'home', 'home'), ('Back', 'Back to  previous…"
      ]
     },
     "metadata": {},
     "output_type": "display_data"
    },
    {
     "data": {
      "application/vnd.jupyter.widget-view+json": {
       "model_id": "987c9a0ef7074a3f81b147da5546c3b6",
       "version_major": 2,
       "version_minor": 0
      },
      "text/plain": [
       "Canvas(toolbar=Toolbar(toolitems=[('Home', 'Reset original view', 'home', 'home'), ('Back', 'Back to  previous…"
      ]
     },
     "metadata": {},
     "output_type": "display_data"
    },
    {
     "data": {
      "application/vnd.jupyter.widget-view+json": {
       "model_id": "6d4b571e706e4ca4879ae682dcf19d07",
       "version_major": 2,
       "version_minor": 0
      },
      "text/plain": [
       "Canvas(toolbar=Toolbar(toolitems=[('Home', 'Reset original view', 'home', 'home'), ('Back', 'Back to  previous…"
      ]
     },
     "metadata": {},
     "output_type": "display_data"
    }
   ],
   "source": [
    "delta = 5\n",
    "delta_unit = metrics.Unit.frames\n",
    "all_pairs = False\n",
    "data = (gt_traj, compslam_traj)\n",
    "\n",
    "print('--- Translational Part -----------------------------')\n",
    "pose_relation = metrics.PoseRelation.translation_part\n",
    "print('APE:')\n",
    "ape_metric_trans = metrics.APE(pose_relation)\n",
    "ape_metric_trans.process_data(data)\n",
    "ape_stat_trans = ape_metric_trans.get_statistic(metrics.StatisticsType.rmse)\n",
    "ape_stats_trans = ape_metric_trans.get_all_statistics()\n",
    "pprint.pprint(ape_stats_trans)\n",
    "\n",
    "print('RPE:')\n",
    "rpe_metric_trans = metrics.RPE(pose_relation, delta, delta_unit, all_pairs)\n",
    "rpe_metric_trans.process_data(data)\n",
    "rpe_stat_trans = rpe_metric_trans.get_statistic(metrics.StatisticsType.rmse)\n",
    "rpe_stats_trans = rpe_metric_trans.get_all_statistics()\n",
    "pprint.pprint(rpe_stats_trans)\n",
    "print('\\n\\n')\n",
    "\n",
    "print('--- Rotational Part -----------------------------')\n",
    "pose_relation = metrics.PoseRelation.rotation_angle_deg\n",
    "print('APE:')\n",
    "ape_metric_rot = metrics.APE(pose_relation)\n",
    "ape_metric_rot.process_data(data)\n",
    "ape_stat_rot = ape_metric_rot.get_statistic(metrics.StatisticsType.rmse)\n",
    "ape_stats_rot = ape_metric_rot.get_all_statistics()\n",
    "pprint.pprint(ape_stats_rot)\n",
    "\n",
    "print('RPE:')\n",
    "rpe_metric_rot = metrics.RPE(pose_relation, delta, delta_unit, all_pairs)\n",
    "rpe_metric_rot.process_data(data)\n",
    "rpe_stat_rot = rpe_metric_rot.get_statistic(metrics.StatisticsType.rmse)\n",
    "rpe_stats_rot = rpe_metric_rot.get_all_statistics()\n",
    "pprint.pprint(rpe_stats_rot)\n",
    "\n",
    "def plot_evaluations_APE(ape_metric, ape_stats):\n",
    "    # Trajectory plot\n",
    "    fig = plt.figure(figsize=(8, 6), dpi=160)\n",
    "    traj_by_label = {\n",
    "        \"estimate\": compslam_traj,\n",
    "        \"reference\": gt_traj\n",
    "    }\n",
    "    plot.trajectories(fig, traj_by_label, plot.PlotMode.xy)\n",
    "    plt.show()\n",
    "\n",
    "    # Trajectory plot\n",
    "    seconds_from_start = [t - compslam_traj.timestamps[0] for t in compslam_traj.timestamps]\n",
    "    fig = plt.figure(figsize=(8, 6), dpi=160)\n",
    "    plot.error_array(fig.gca(), ape_metric.error, x_array=seconds_from_start,\n",
    "                     statistics={s:v for s,v in ape_stats.items() if s != \"sse\"},\n",
    "                     name=\"APE\", title=\"APE w.r.t. \" + ape_metric.pose_relation.value, xlabel=\"$t$ (s)\")\n",
    "    plt.show()\n",
    "\n",
    "    plot_mode = plot.PlotMode.xy\n",
    "    fig = plt.figure(figsize=(8, 6), dpi=160)\n",
    "    ax = plot.prepare_axis(fig, plot_mode)\n",
    "    plot.traj(ax, plot_mode, gt_traj, '--', \"gray\", \"reference\")\n",
    "    plot.traj_colormap(ax, compslam_traj, ape_metric.error, \n",
    "                       plot_mode, min_map=ape_stats[\"min\"], max_map=ape_stats[\"max\"])\n",
    "    ax.legend()\n",
    "    plt.show()\n",
    "    \n",
    "plot_evaluations_APE(ape_metric_trans, ape_stats_trans)"
   ]
  },
  {
   "cell_type": "code",
   "execution_count": 29,
   "metadata": {},
   "outputs": [
    {
     "data": {
      "text/plain": [
       "array([[ 1.62823430e+18,  0.00000000e+00,  0.00000000e+00,\n",
       "         0.00000000e+00,  1.00000000e+00,  0.00000000e+00,\n",
       "         0.00000000e+00,  0.00000000e+00],\n",
       "       [ 1.62823430e+18,  5.64583628e-03,  3.93047646e-02,\n",
       "         7.69039985e-02,  9.99999997e-01,  2.32033118e-05,\n",
       "        -7.78890704e-05,  1.70213474e-05],\n",
       "       [ 1.62823430e+18, -1.63190365e+00,  2.48728503e-01,\n",
       "         6.07898273e-01,  7.11157954e-01,  8.41432222e-03,\n",
       "         1.34434346e-02,  7.02853354e-01],\n",
       "       [ 1.62823430e+18, -1.63259896e+00,  2.49769738e-01,\n",
       "         6.10358779e-01,  7.10943427e-01,  7.52582317e-03,\n",
       "         1.34268605e-02,  7.03080738e-01],\n",
       "       [ 1.62823430e+18, -1.63022522e+00,  2.47914581e-01,\n",
       "         6.16053243e-01,  7.11030414e-01,  8.99780459e-03,\n",
       "         1.26060652e-02,  7.02990667e-01]])"
      ]
     },
     "execution_count": 29,
     "metadata": {},
     "output_type": "execute_result"
    }
   ],
   "source": [
    "compslam_trajectories[0][0:5,:]"
   ]
  }
 ],
 "metadata": {
  "kernelspec": {
   "display_name": "Python 3",
   "language": "python",
   "name": "python3"
  },
  "language_info": {
   "codemirror_mode": {
    "name": "ipython",
    "version": 3
   },
   "file_extension": ".py",
   "mimetype": "text/x-python",
   "name": "python",
   "nbconvert_exporter": "python",
   "pygments_lexer": "ipython3",
   "version": "3.6.9"
  }
 },
 "nbformat": 4,
 "nbformat_minor": 4
}
