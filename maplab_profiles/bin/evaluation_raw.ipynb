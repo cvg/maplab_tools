{
 "cells": [
  {
   "cell_type": "markdown",
   "metadata": {},
   "source": [
    "# Raw Evaluation wrt GT"
   ]
  },
  {
   "cell_type": "code",
   "execution_count": 3,
   "metadata": {},
   "outputs": [],
   "source": [
    "%matplotlib widget\n",
    "\n",
    "import numpy as np\n",
    "import matplotlib.pyplot as plt\n",
    "from mpl_toolkits.mplot3d import axes3d \n",
    "\n",
    "import pandas as pd\n",
    "import os\n",
    "import pprint\n",
    "\n",
    "from evo.core.trajectory import PoseTrajectory3D\n",
    "from evo.tools import plot\n",
    "from evo.core import metrics\n",
    "from evo.core import sync\n",
    "\n",
    "from pose_trajectory_evaluation import PoseTrajectoryEvaluation\n",
    "\n",
    "%reload_ext autoreload\n",
    "%autoreload 2"
   ]
  },
  {
   "cell_type": "code",
   "execution_count": 21,
   "metadata": {},
   "outputs": [
    {
     "name": "stdout",
     "output_type": "stream",
     "text": [
      "Loaded 1 missions.\n",
      "GT poses: 1443\n",
      "Compslam poses: 2178\n"
     ]
    }
   ],
   "source": [
    "export_path = '/mnt/data/datasets/fgsp/gt/h_floor_anymal_2/'\n",
    "# export_path = '/mnt/data/datasets/fgsp/gt/hagerbach_anymal_2/'\n",
    "n = 0\n",
    "\n",
    "compslam_trajectories = []\n",
    "gt_trajectories = []\n",
    "\n",
    "for i in range(0, n+1):\n",
    "    compslam_traj_filename = export_path + 'compslam.npy'\n",
    "    gt_traj_filename = export_path + 'gt.npy'\n",
    "\n",
    "    compslam_trajectories.append(np.load(compslam_traj_filename))\n",
    "    gt_trajectories.append(np.load(gt_traj_filename))\n",
    "assert len(gt_trajectories) == len(compslam_trajectories)\n",
    "\n",
    "\n",
    "print(f'Loaded {len(gt_trajectories)} missions.')\n",
    "print(f'GT poses: {gt_trajectories[0].shape[0]}')\n",
    "print(f'Compslam poses: {compslam_trajectories[0].shape[0]}')"
   ]
  },
  {
   "cell_type": "code",
   "execution_count": 20,
   "metadata": {},
   "outputs": [
    {
     "name": "stderr",
     "output_type": "stream",
     "text": [
      "[PoseTrajectoryEvaluation] No trajectories are given!\n"
     ]
    },
    {
     "name": "stdout",
     "output_type": "stream",
     "text": [
      "Maplab poses: 268\n"
     ]
    }
   ],
   "source": [
    "# export_server_path = '/home/berlukas/Documents/results/h_floor_bkp/merged_map/'\n",
    "export_server_path = '/tmp/maplab_server/merged_map/'\n",
    "csv_file = 'vertex_poses_velocities_biases.csv'\n",
    "server_trajectories = []\n",
    "eval = PoseTrajectoryEvaluation()\n",
    "\n",
    "anymal_1_ms = '6b860e87b1969a160f00000000000000'\n",
    "anymal_2_ms = 'ee0496a01b979a160f00000000000000'\n",
    "anymal_2_ms_2 = 'ae2843fe27e69e160f00000000000000'\n",
    "\n",
    "\n",
    "server_df = eval.get_mission_from_csv(export_server_path + csv_file, anymal_2_ms_2)\n",
    "server_trajectories.append(eval.convert_df_to_traj(server_df))\n",
    "\n",
    "print(f'Maplab poses: {server_trajectories[0].shape[0]}')"
   ]
  },
  {
   "cell_type": "code",
   "execution_count": 8,
   "metadata": {},
   "outputs": [
    {
     "name": "stderr",
     "output_type": "stream",
     "text": [
      "[PoseTrajectoryEvaluation] No trajectories are given!\n"
     ]
    },
    {
     "name": "stdout",
     "output_type": "stream",
     "text": [
      "Maplab poses: 2605\n"
     ]
    }
   ],
   "source": [
    "export_server_path = '/home/berlukas/Documents/results/hagerbach_july/mission_05_opt_2/'\n",
    "export_server_path = '/home/berlukas/Documents/results/icra_2022/hagerbach_anymal_2/'\n",
    "csv_file = 'vertex_poses_velocities_biases.csv'\n",
    "server_trajectories = []\n",
    "eval = PoseTrajectoryEvaluation()\n",
    "\n",
    "anymal_1_ms = '5b4100ac6cf495160f00000000000000'\n",
    "anymal_2_ms = '970e3236aaf495160f00000000000000'\n",
    "anymal_2_ms_2 = '74e2673020de9e160f00000000000000' \n",
    "anymal_5_ms = '977aa80858f595160e00000000000000'\n",
    "\n",
    "server_df = eval.get_mission_from_csv(export_server_path + csv_file, anymal_2_ms_2)\n",
    "server_trajectories.append(eval.convert_df_to_traj(server_df))\n",
    "\n",
    "print(f'Maplab poses: {server_trajectories[0].shape[0]}')"
   ]
  },
  {
   "cell_type": "markdown",
   "metadata": {},
   "source": [
    "------------------------------------------------------"
   ]
  },
  {
   "cell_type": "code",
   "execution_count": 22,
   "metadata": {},
   "outputs": [
    {
     "name": "stdout",
     "output_type": "stream",
     "text": [
      "Maplab poses: 263 vs. 263\n"
     ]
    }
   ],
   "source": [
    "max_diff = 0.1\n",
    "\n",
    "delta = 10\n",
    "delta_unit = metrics.Unit.frames\n",
    "all_pairs = False\n",
    "\n",
    "# skip the first few estimates due to the darpa alignment\n",
    "compslam_trajectories[0] = compslam_trajectories[0][10:,:]\n",
    "server_trajectories[0] = server_trajectories[0][5:,:]\n",
    "# server_trajectories[0] = server_trajectories[0][0:len(server_trajectories[0])-255,:]\n",
    "\n",
    "print(f'Maplab poses: {server_trajectories[0].shape[0]} vs. {len(server_trajectories[0])}')"
   ]
  },
  {
   "cell_type": "code",
   "execution_count": 46,
   "metadata": {},
   "outputs": [],
   "source": [
    "gt_trajectories[0] = gt_trajectories[0][0:len(gt_trajectories[0])-255,:]"
   ]
  },
  {
   "cell_type": "code",
   "execution_count": 18,
   "metadata": {},
   "outputs": [],
   "source": [
    "def plot_evaluations_APE(data, ape_metric, ape_stats):\n",
    "    # Trajectory plot\n",
    "    fig = plt.figure(figsize=(8, 6), dpi=160)\n",
    "    traj_by_label = {\n",
    "        \"estimate\": data[1],\n",
    "        \"reference\": data[0]\n",
    "    }\n",
    "    plot.trajectories(fig, traj_by_label, plot.PlotMode.xy)\n",
    "    plt.show()\n",
    "\n",
    "    # Trajectory plot\n",
    "    seconds_from_start = [t - data[1].timestamps[0] for t in data[1].timestamps]\n",
    "    fig = plt.figure(figsize=(8, 6), dpi=160)\n",
    "    plot.error_array(fig.gca(), ape_metric.error, x_array=seconds_from_start,\n",
    "                     statistics={s:v for s,v in ape_stats.items() if s != \"sse\"},\n",
    "                     name=\"APE\", title=\"APE w.r.t. \" + ape_metric.pose_relation.value, xlabel=\"$t$ (s)\")\n",
    "    plt.show()\n",
    "\n",
    "    plot_mode = plot.PlotMode.xy\n",
    "    fig = plt.figure(figsize=(8, 6), dpi=160)\n",
    "    ax = plot.prepare_axis(fig, plot_mode)\n",
    "    plot.traj(ax, plot_mode, gt_traj, '--', \"gray\", \"reference\")\n",
    "    plot.traj_colormap(ax, data[1], ape_metric.error, \n",
    "                       plot_mode, min_map=ape_stats[\"min\"], max_map=ape_stats[\"max\"])\n",
    "    ax.legend()\n",
    "    plt.show()\n",
    "\n",
    "def perform_evaluation_using_data(data, delta, delta_unit, all_pairs):\n",
    "    print('--- Translational Part -----------------------------')\n",
    "    pose_relation = metrics.PoseRelation.translation_part\n",
    "    print('APE:')\n",
    "    ape_metric_trans = metrics.APE(pose_relation)\n",
    "    ape_metric_trans.process_data(data)\n",
    "    ape_stat_trans = ape_metric_trans.get_statistic(metrics.StatisticsType.rmse)\n",
    "    ape_stats_trans = ape_metric_trans.get_all_statistics()\n",
    "    pprint.pprint(ape_stats_trans)\n",
    "\n",
    "    print('RPE:')\n",
    "    rpe_metric_trans = metrics.RPE(pose_relation, delta, delta_unit, all_pairs)\n",
    "    rpe_metric_trans.process_data(data)\n",
    "    rpe_stat_trans = rpe_metric_trans.get_statistic(metrics.StatisticsType.rmse)\n",
    "    rpe_stats_trans = rpe_metric_trans.get_all_statistics()\n",
    "    pprint.pprint(rpe_stats_trans)\n",
    "    print('\\n\\n')\n",
    "\n",
    "    print('--- Rotational Part -----------------------------')\n",
    "    pose_relation = metrics.PoseRelation.rotation_angle_deg\n",
    "    print('APE:')\n",
    "    ape_metric_rot = metrics.APE(pose_relation)\n",
    "    ape_metric_rot.process_data(data)\n",
    "    ape_stat_rot = ape_metric_rot.get_statistic(metrics.StatisticsType.rmse)\n",
    "    ape_stats_rot = ape_metric_rot.get_all_statistics()\n",
    "    pprint.pprint(ape_stats_rot)\n",
    "\n",
    "    print('RPE:')\n",
    "    rpe_metric_rot = metrics.RPE(pose_relation, delta, delta_unit, all_pairs)\n",
    "    rpe_metric_rot.process_data(data)\n",
    "    rpe_stat_rot = rpe_metric_rot.get_statistic(metrics.StatisticsType.rmse)\n",
    "    rpe_stats_rot = rpe_metric_rot.get_all_statistics()\n",
    "    pprint.pprint(rpe_stats_rot)\n",
    "\n",
    "    plot_evaluations_APE(data, ape_metric_trans, ape_stats_trans)"
   ]
  },
  {
   "cell_type": "code",
   "execution_count": 23,
   "metadata": {},
   "outputs": [
    {
     "name": "stdout",
     "output_type": "stream",
     "text": [
      "=== COMPSLAM =========================================================\n",
      "--- Translational Part -----------------------------\n",
      "APE:\n",
      "{'max': 0.8865167540791871,\n",
      " 'mean': 0.18988146021362087,\n",
      " 'median': 0.12762749007046684,\n",
      " 'min': 0.0030788815433286814,\n",
      " 'rmse': 0.24539732267797523,\n",
      " 'sse': 84.72932329036824,\n",
      " 'std': 0.1554505614163597}\n",
      "RPE:\n",
      "{'max': 0.5507443162509859,\n",
      " 'mean': 0.08615090076397772,\n",
      " 'median': 0.06324480291071194,\n",
      " 'min': 0.009357639090839531,\n",
      " 'rmse': 0.1161888466461678,\n",
      " 'sse': 1.8899787318953378,\n",
      " 'std': 0.07796069767852237}\n",
      "\n",
      "\n",
      "\n",
      "--- Rotational Part -----------------------------\n",
      "APE:\n",
      "{'max': 8.510335993438046,\n",
      " 'mean': 3.072753384902977,\n",
      " 'median': 3.076142076069635,\n",
      " 'min': 0.18787159673095866,\n",
      " 'rmse': 3.386230360486828,\n",
      " 'sse': 16133.444368375833,\n",
      " 'std': 1.422934534632585}\n",
      "RPE:\n",
      "{'max': 5.253718197188504,\n",
      " 'mean': 1.6656572144536579,\n",
      " 'median': 1.412640398837333,\n",
      " 'min': 0.13733583993133294,\n",
      " 'rmse': 1.9478627224559557,\n",
      " 'sse': 531.1836859746938,\n",
      " 'std': 1.0098293070970017}\n"
     ]
    },
    {
     "name": "stderr",
     "output_type": "stream",
     "text": [
      "/usr/local/lib/python3.6/dist-packages/matplotlib/pyplot.py:522: RuntimeWarning: More than 20 figures have been opened. Figures created through the pyplot interface (`matplotlib.pyplot.figure`) are retained until explicitly closed and may consume too much memory. (To control this warning, see the rcParam `figure.max_open_warning`).\n",
      "  max_open_warning, RuntimeWarning)\n",
      "/usr/local/lib/python3.6/dist-packages/matplotlib/__init__.py:941: MatplotlibDeprecationWarning: nbagg.transparent is deprecated and ignored. Use figure.facecolor instead.\n",
      "  mplDeprecation)\n"
     ]
    },
    {
     "data": {
      "application/vnd.jupyter.widget-view+json": {
       "model_id": "2fc5a467359f4303bd70658a30b9b3c7",
       "version_major": 2,
       "version_minor": 0
      },
      "text/plain": [
       "Canvas(toolbar=Toolbar(toolitems=[('Home', 'Reset original view', 'home', 'home'), ('Back', 'Back to  previous…"
      ]
     },
     "metadata": {},
     "output_type": "display_data"
    },
    {
     "data": {
      "application/vnd.jupyter.widget-view+json": {
       "model_id": "8b23187e10a742ce824232b459d6f7d9",
       "version_major": 2,
       "version_minor": 0
      },
      "text/plain": [
       "Canvas(toolbar=Toolbar(toolitems=[('Home', 'Reset original view', 'home', 'home'), ('Back', 'Back to  previous…"
      ]
     },
     "metadata": {},
     "output_type": "display_data"
    },
    {
     "data": {
      "application/vnd.jupyter.widget-view+json": {
       "model_id": "fc4a2c365b5b40c8a0b036d154e8f356",
       "version_major": 2,
       "version_minor": 0
      },
      "text/plain": [
       "Canvas(toolbar=Toolbar(toolitems=[('Home', 'Reset original view', 'home', 'home'), ('Back', 'Back to  previous…"
      ]
     },
     "metadata": {},
     "output_type": "display_data"
    },
    {
     "name": "stdout",
     "output_type": "stream",
     "text": [
      "=== Maplab ===========================================================\n",
      "--- Translational Part -----------------------------\n",
      "APE:\n",
      "{'max': 0.8726699778988646,\n",
      " 'mean': 0.15205575951553563,\n",
      " 'median': 0.13411009994062084,\n",
      " 'min': 0.016107806214053128,\n",
      " 'rmse': 0.18028090002408406,\n",
      " 'sse': 7.800288699238511,\n",
      " 'std': 0.09685168512549175}\n",
      "RPE:\n",
      "{'max': 0.950298547627011,\n",
      " 'mean': 0.33733642192078317,\n",
      " 'median': 0.31598151639746536,\n",
      " 'min': 0.053688144612152565,\n",
      " 'rmse': 0.3865504666148416,\n",
      " 'sse': 3.4366890545234914,\n",
      " 'std': 0.18874692497054144}\n",
      "\n",
      "\n",
      "\n",
      "--- Rotational Part -----------------------------\n",
      "APE:\n",
      "{'max': 5.428445102773565,\n",
      " 'mean': 3.2679105697477535,\n",
      " 'median': 3.3029814489369045,\n",
      " 'min': 0.8813781496597697,\n",
      " 'rmse': 3.377516318562892,\n",
      " 'sse': 2737.8279557180713,\n",
      " 'std': 0.8534500514321539}\n",
      "RPE:\n",
      "{'max': 5.113536146367209,\n",
      " 'mean': 2.318528214738572,\n",
      " 'median': 1.7323425330669653,\n",
      " 'min': 0.31519544263779414,\n",
      " 'rmse': 2.7242171780670543,\n",
      " 'sse': 170.69126236533936,\n",
      " 'std': 1.4303098093548794}\n"
     ]
    },
    {
     "data": {
      "application/vnd.jupyter.widget-view+json": {
       "model_id": "81f23e023381401887c05b3bdffec5da",
       "version_major": 2,
       "version_minor": 0
      },
      "text/plain": [
       "Canvas(toolbar=Toolbar(toolitems=[('Home', 'Reset original view', 'home', 'home'), ('Back', 'Back to  previous…"
      ]
     },
     "metadata": {},
     "output_type": "display_data"
    },
    {
     "data": {
      "application/vnd.jupyter.widget-view+json": {
       "model_id": "3e94df43116e4bc0b329f55641e8bbc4",
       "version_major": 2,
       "version_minor": 0
      },
      "text/plain": [
       "Canvas(toolbar=Toolbar(toolitems=[('Home', 'Reset original view', 'home', 'home'), ('Back', 'Back to  previous…"
      ]
     },
     "metadata": {},
     "output_type": "display_data"
    },
    {
     "data": {
      "application/vnd.jupyter.widget-view+json": {
       "model_id": "6fae9d49f37b49eeb0980ec89d74edfd",
       "version_major": 2,
       "version_minor": 0
      },
      "text/plain": [
       "Canvas(toolbar=Toolbar(toolitems=[('Home', 'Reset original view', 'home', 'home'), ('Back', 'Back to  previous…"
      ]
     },
     "metadata": {},
     "output_type": "display_data"
    }
   ],
   "source": [
    "idx = 0\n",
    "\n",
    "def ts_ns_to_seconds(ts_ns):\n",
    "    k_ns_per_s = 1e9;\n",
    "    return ts_ns / k_ns_per_s;\n",
    "\n",
    "def convert_to_traj(trajectory):\n",
    "    ts = ts_ns_to_seconds(trajectory[:,0])\n",
    "    xyz = trajectory[:,1:4]\n",
    "    wxyz = trajectory[:,4:8]\n",
    "    return PoseTrajectory3D(positions_xyz = xyz, orientations_quat_wxyz = wxyz, timestamps = ts)\n",
    "\n",
    "print(f'=== COMPSLAM =========================================================')\n",
    "compslam_traj = convert_to_traj(compslam_trajectories[idx])\n",
    "gt_traj = convert_to_traj(gt_trajectories[idx])\n",
    "gt_traj, compslam_traj = sync.associate_trajectories(gt_traj, compslam_traj, max_diff)\n",
    "compslam_traj.align(gt_traj, correct_scale=False, correct_only_scale=False, n=200)\n",
    "\n",
    "data = (gt_traj, compslam_traj)\n",
    "perform_evaluation_using_data(data, delta, delta_unit, all_pairs)\n",
    "\n",
    "\n",
    "print(f'=== Maplab ===========================================================')\n",
    "server_traj = convert_to_traj(server_trajectories[idx])\n",
    "gt_traj = convert_to_traj(gt_trajectories[idx])\n",
    "gt_traj, server_traj = sync.associate_trajectories(gt_traj, server_traj, max_diff)\n",
    "server_traj.align(gt_traj, correct_scale=False, correct_only_scale=False, n=200)\n",
    "\n",
    "data = (gt_traj, server_traj)\n",
    "perform_evaluation_using_data(data, delta, delta_unit, all_pairs)"
   ]
  }
 ],
 "metadata": {
  "kernelspec": {
   "display_name": "Python 3",
   "language": "python",
   "name": "python3"
  },
  "language_info": {
   "codemirror_mode": {
    "name": "ipython",
    "version": 3
   },
   "file_extension": ".py",
   "mimetype": "text/x-python",
   "name": "python",
   "nbconvert_exporter": "python",
   "pygments_lexer": "ipython3",
   "version": "3.6.9"
  }
 },
 "nbformat": 4,
 "nbformat_minor": 4
}
