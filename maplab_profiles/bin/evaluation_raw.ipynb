{
 "cells": [
  {
   "cell_type": "markdown",
   "metadata": {},
   "source": [
    "# Raw Evaluation wrt GT"
   ]
  },
  {
   "cell_type": "code",
   "execution_count": 15,
   "metadata": {},
   "outputs": [],
   "source": [
    "%matplotlib widget\n",
    "\n",
    "import numpy as np\n",
    "import matplotlib.pyplot as plt\n",
    "from mpl_toolkits.mplot3d import axes3d \n",
    "\n",
    "import pandas as pd\n",
    "import os\n",
    "import pprint\n",
    "\n",
    "from evo.core.trajectory import PoseTrajectory3D\n",
    "from evo.tools import plot\n",
    "from evo.core import metrics\n",
    "from evo.core import sync\n",
    "\n",
    "from pose_trajectory_evaluation import PoseTrajectoryEvaluation\n",
    "\n",
    "%reload_ext autoreload\n",
    "%autoreload 2"
   ]
  },
  {
   "cell_type": "code",
   "execution_count": 16,
   "metadata": {},
   "outputs": [
    {
     "name": "stdout",
     "output_type": "stream",
     "text": [
      "Loaded 1 missions.\n",
      "GT poses: 2561\n",
      "Compslam poses: 3301\n"
     ]
    }
   ],
   "source": [
    "export_path = '/mnt/data/datasets/fgsp/gt/h_floor_anymal_1/'\n",
    "# export_path = '/mnt/data/datasets/fgsp/gt/hagerbach_anymal_2/'\n",
    "n = 0\n",
    "\n",
    "compslam_trajectories = []\n",
    "gt_trajectories = []\n",
    "\n",
    "for i in range(0, n+1):\n",
    "#     compslam_traj_filename = export_path + 'compslam_spectral.npy'\n",
    "    compslam_traj_filename = export_path + 'baseline.npy'\n",
    "    gt_traj_filename = export_path + 'gt.npy'\n",
    "\n",
    "    compslam_trajectories.append(np.load(compslam_traj_filename))\n",
    "    gt_trajectories.append(np.load(gt_traj_filename))\n",
    "assert len(gt_trajectories) == len(compslam_trajectories)\n",
    "\n",
    "\n",
    "print(f'Loaded {len(gt_trajectories)} missions.')\n",
    "print(f'GT poses: {gt_trajectories[0].shape[0]}')\n",
    "print(f'Compslam poses: {compslam_trajectories[0].shape[0]}')"
   ]
  },
  {
   "cell_type": "code",
   "execution_count": 17,
   "metadata": {},
   "outputs": [
    {
     "name": "stdout",
     "output_type": "stream",
     "text": [
      "Maplab poses: 398\n"
     ]
    }
   ],
   "source": [
    "export_server_path = '/home/berlukas/Documents/results/h_floor_bkp/merged_map/'\n",
    "# export_server_path = '/tmp/maplab_server/merged_map/'\n",
    "csv_file = 'vertex_poses_velocities_biases.csv'\n",
    "server_trajectories = []\n",
    "eval = PoseTrajectoryEvaluation()\n",
    "\n",
    "anymal_1_ms = '6b860e87b1969a160f00000000000000'\n",
    "anymal_2_ms = 'ee0496a01b979a160f00000000000000'\n",
    "anymal_2_ms_2 = 'ae2843fe27e69e160f00000000000000'\n",
    "\n",
    "\n",
    "server_df = eval.get_mission_from_csv(export_server_path + csv_file, anymal_1_ms)\n",
    "server_trajectories.append(eval.convert_df_to_traj(server_df))\n",
    "\n",
    "print(f'Maplab poses: {server_trajectories[0].shape[0]}')"
   ]
  },
  {
   "cell_type": "code",
   "execution_count": 8,
   "metadata": {},
   "outputs": [
    {
     "name": "stderr",
     "output_type": "stream",
     "text": [
      "[PoseTrajectoryEvaluation] No trajectories are given!\n"
     ]
    },
    {
     "name": "stdout",
     "output_type": "stream",
     "text": [
      "Maplab poses: 2605\n"
     ]
    }
   ],
   "source": [
    "export_server_path = '/home/berlukas/Documents/results/hagerbach_july/mission_05_opt_2/'\n",
    "export_server_path = '/home/berlukas/Documents/results/icra_2022/hagerbach_anymal_2/'\n",
    "csv_file = 'vertex_poses_velocities_biases.csv'\n",
    "server_trajectories = []\n",
    "eval = PoseTrajectoryEvaluation()\n",
    "\n",
    "anymal_1_ms = '5b4100ac6cf495160f00000000000000'\n",
    "anymal_2_ms = '970e3236aaf495160f00000000000000'\n",
    "anymal_2_ms_2 = '74e2673020de9e160f00000000000000' \n",
    "anymal_5_ms = '977aa80858f595160e00000000000000'\n",
    "\n",
    "server_df = eval.get_mission_from_csv(export_server_path + csv_file, anymal_2_ms_2)\n",
    "server_trajectories.append(eval.convert_df_to_traj(server_df))\n",
    "\n",
    "print(f'Maplab poses: {server_trajectories[0].shape[0]}')"
   ]
  },
  {
   "cell_type": "markdown",
   "metadata": {},
   "source": [
    "------------------------------------------------------"
   ]
  },
  {
   "cell_type": "code",
   "execution_count": 18,
   "metadata": {},
   "outputs": [
    {
     "name": "stdout",
     "output_type": "stream",
     "text": [
      "Maplab poses: 398 vs. 398\n"
     ]
    }
   ],
   "source": [
    "max_diff = 0.1\n",
    "\n",
    "delta = 10\n",
    "delta_unit = metrics.Unit.frames\n",
    "all_pairs = False\n",
    "\n",
    "# skip the first few estimates due to the darpa alignment\n",
    "# compslam_trajectories[0] = compslam_trajectories[0][10:,:]\n",
    "# server_trajectories[0] = server_trajectories[0][5:,:]\n",
    "# server_trajectories[0] = server_trajectories[0][0:len(server_trajectories[0])-255,:]\n",
    "\n",
    "print(f'Maplab poses: {server_trajectories[0].shape[0]} vs. {len(server_trajectories[0])}')"
   ]
  },
  {
   "cell_type": "code",
   "execution_count": 46,
   "metadata": {},
   "outputs": [],
   "source": [
    "gt_trajectories[0] = gt_trajectories[0][0:len(gt_trajectories[0])-255,:]"
   ]
  },
  {
   "cell_type": "code",
   "execution_count": 9,
   "metadata": {},
   "outputs": [],
   "source": [
    "def plot_evaluations_APE(data, ape_metric, ape_stats):\n",
    "    # Trajectory plot\n",
    "    fig = plt.figure(figsize=(8, 6), dpi=160)\n",
    "    traj_by_label = {\n",
    "        \"estimate\": data[1],\n",
    "        \"reference\": data[0]\n",
    "    }\n",
    "    plot.trajectories(fig, traj_by_label, plot.PlotMode.xy)\n",
    "    plt.show()\n",
    "\n",
    "    # Trajectory plot\n",
    "    seconds_from_start = [t - data[1].timestamps[0] for t in data[1].timestamps]\n",
    "    fig = plt.figure(figsize=(8, 6), dpi=160)\n",
    "    plot.error_array(fig.gca(), ape_metric.error, x_array=seconds_from_start,\n",
    "                     statistics={s:v for s,v in ape_stats.items() if s != \"sse\"},\n",
    "                     name=\"APE\", title=\"APE w.r.t. \" + ape_metric.pose_relation.value, xlabel=\"$t$ (s)\")\n",
    "    plt.show()\n",
    "\n",
    "    plot_mode = plot.PlotMode.xy\n",
    "    fig = plt.figure(figsize=(8, 6), dpi=160)\n",
    "    ax = plot.prepare_axis(fig, plot_mode)\n",
    "    plot.traj(ax, plot_mode, gt_traj, '--', \"gray\", \"reference\")\n",
    "    plot.traj_colormap(ax, data[1], ape_metric.error, \n",
    "                       plot_mode, min_map=ape_stats[\"min\"], max_map=ape_stats[\"max\"])\n",
    "    ax.legend()\n",
    "    plt.show()\n",
    "\n",
    "def perform_evaluation_using_data(data, delta, delta_unit, all_pairs):\n",
    "    print('--- Translational Part -----------------------------')\n",
    "    pose_relation = metrics.PoseRelation.translation_part\n",
    "    print('APE:')\n",
    "    ape_metric_trans = metrics.APE(pose_relation)\n",
    "    ape_metric_trans.process_data(data)\n",
    "    ape_stat_trans = ape_metric_trans.get_statistic(metrics.StatisticsType.rmse)\n",
    "    ape_stats_trans = ape_metric_trans.get_all_statistics()\n",
    "    pprint.pprint(ape_stats_trans)\n",
    "\n",
    "#     print('RPE:')\n",
    "#     rpe_metric_trans = metrics.RPE(pose_relation, delta, delta_unit, all_pairs)\n",
    "#     rpe_metric_trans.process_data(data)\n",
    "#     rpe_stat_trans = rpe_metric_trans.get_statistic(metrics.StatisticsType.rmse)\n",
    "#     rpe_stats_trans = rpe_metric_trans.get_all_statistics()\n",
    "#     pprint.pprint(rpe_stats_trans)\n",
    "#     print('\\n\\n')\n",
    "\n",
    "    print('--- Rotational Part -----------------------------')\n",
    "    pose_relation = metrics.PoseRelation.rotation_angle_deg\n",
    "    print('APE:')\n",
    "    ape_metric_rot = metrics.APE(pose_relation)\n",
    "    ape_metric_rot.process_data(data)\n",
    "    ape_stat_rot = ape_metric_rot.get_statistic(metrics.StatisticsType.rmse)\n",
    "    ape_stats_rot = ape_metric_rot.get_all_statistics()\n",
    "    pprint.pprint(ape_stats_rot)\n",
    "\n",
    "#     print('RPE:')\n",
    "#     rpe_metric_rot = metrics.RPE(pose_relation, delta, delta_unit, all_pairs)\n",
    "#     rpe_metric_rot.process_data(data)\n",
    "#     rpe_stat_rot = rpe_metric_rot.get_statistic(metrics.StatisticsType.rmse)\n",
    "#     rpe_stats_rot = rpe_metric_rot.get_all_statistics()\n",
    "#     pprint.pprint(rpe_stats_rot)\n",
    "\n",
    "    plot_evaluations_APE(data, ape_metric_trans, ape_stats_trans)"
   ]
  },
  {
   "cell_type": "code",
   "execution_count": 19,
   "metadata": {},
   "outputs": [
    {
     "name": "stdout",
     "output_type": "stream",
     "text": [
      "=== COMPSLAM =========================================================\n",
      "--- Translational Part -----------------------------\n",
      "APE:\n",
      "{'max': 1.0343050383735435,\n",
      " 'mean': 0.340521231094956,\n",
      " 'median': 0.3754029881633799,\n",
      " 'min': 0.005906540633598667,\n",
      " 'rmse': 0.4185736333434969,\n",
      " 'sse': 445.718687333277,\n",
      " 'std': 0.2434115397920808}\n",
      "--- Rotational Part -----------------------------\n",
      "APE:\n",
      "{'max': 18.389681321825087,\n",
      " 'mean': 3.201786554959107,\n",
      " 'median': 2.947503614051402,\n",
      " 'min': 0.5357343223309461,\n",
      " 'rmse': 3.533314600520209,\n",
      " 'sse': 31760.08989653818,\n",
      " 'std': 1.494280737589953}\n"
     ]
    },
    {
     "name": "stderr",
     "output_type": "stream",
     "text": [
      "/usr/local/lib/python3.6/dist-packages/matplotlib/__init__.py:941: MatplotlibDeprecationWarning: nbagg.transparent is deprecated and ignored. Use figure.facecolor instead.\n",
      "  mplDeprecation)\n"
     ]
    },
    {
     "data": {
      "application/vnd.jupyter.widget-view+json": {
       "model_id": "e93a7018279243aab9a928151b98c02d",
       "version_major": 2,
       "version_minor": 0
      },
      "text/plain": [
       "Canvas(toolbar=Toolbar(toolitems=[('Home', 'Reset original view', 'home', 'home'), ('Back', 'Back to  previous…"
      ]
     },
     "metadata": {},
     "output_type": "display_data"
    },
    {
     "data": {
      "application/vnd.jupyter.widget-view+json": {
       "model_id": "142bd23f2c564541b92f8b523f6ef6fc",
       "version_major": 2,
       "version_minor": 0
      },
      "text/plain": [
       "Canvas(toolbar=Toolbar(toolitems=[('Home', 'Reset original view', 'home', 'home'), ('Back', 'Back to  previous…"
      ]
     },
     "metadata": {},
     "output_type": "display_data"
    },
    {
     "data": {
      "application/vnd.jupyter.widget-view+json": {
       "model_id": "b45559d3b09946e29a5b10b9dcc5c51b",
       "version_major": 2,
       "version_minor": 0
      },
      "text/plain": [
       "Canvas(toolbar=Toolbar(toolitems=[('Home', 'Reset original view', 'home', 'home'), ('Back', 'Back to  previous…"
      ]
     },
     "metadata": {},
     "output_type": "display_data"
    },
    {
     "name": "stdout",
     "output_type": "stream",
     "text": [
      "=== Maplab ===========================================================\n",
      "--- Translational Part -----------------------------\n",
      "APE:\n",
      "{'max': 1.0367962874656549,\n",
      " 'mean': 0.18810841524264404,\n",
      " 'median': 0.14416403933755112,\n",
      " 'min': 0.012795333331096876,\n",
      " 'rmse': 0.21983055209702684,\n",
      " 'sse': 19.1852122392076,\n",
      " 'std': 0.11375717889515645}\n",
      "--- Rotational Part -----------------------------\n",
      "APE:\n",
      "{'max': 16.621768040267263,\n",
      " 'mean': 3.119478802816587,\n",
      " 'median': 2.986319427574425,\n",
      " 'min': 1.0542034142057732,\n",
      " 'rmse': 3.4488239945635226,\n",
      " 'sse': 4722.071617354406,\n",
      " 'std': 1.4707953441098072}\n"
     ]
    },
    {
     "data": {
      "application/vnd.jupyter.widget-view+json": {
       "model_id": "c9aa6d250b4144c9b7eecc008ec2aaeb",
       "version_major": 2,
       "version_minor": 0
      },
      "text/plain": [
       "Canvas(toolbar=Toolbar(toolitems=[('Home', 'Reset original view', 'home', 'home'), ('Back', 'Back to  previous…"
      ]
     },
     "metadata": {},
     "output_type": "display_data"
    },
    {
     "data": {
      "application/vnd.jupyter.widget-view+json": {
       "model_id": "8dbac95e2a5a403f974afb73e4f0b60c",
       "version_major": 2,
       "version_minor": 0
      },
      "text/plain": [
       "Canvas(toolbar=Toolbar(toolitems=[('Home', 'Reset original view', 'home', 'home'), ('Back', 'Back to  previous…"
      ]
     },
     "metadata": {},
     "output_type": "display_data"
    },
    {
     "data": {
      "application/vnd.jupyter.widget-view+json": {
       "model_id": "728ed80c155a493fb122a65a3ede3b8d",
       "version_major": 2,
       "version_minor": 0
      },
      "text/plain": [
       "Canvas(toolbar=Toolbar(toolitems=[('Home', 'Reset original view', 'home', 'home'), ('Back', 'Back to  previous…"
      ]
     },
     "metadata": {},
     "output_type": "display_data"
    }
   ],
   "source": [
    "idx = 0\n",
    "\n",
    "def ts_ns_to_seconds(ts_ns):\n",
    "    k_ns_per_s = 1e9;\n",
    "    return ts_ns / k_ns_per_s;\n",
    "\n",
    "def convert_to_traj(trajectory):\n",
    "    ts = ts_ns_to_seconds(trajectory[:,0])\n",
    "    xyz = trajectory[:,1:4]\n",
    "    wxyz = trajectory[:,4:8]\n",
    "    return PoseTrajectory3D(positions_xyz = xyz, orientations_quat_wxyz = wxyz, timestamps = ts)\n",
    "\n",
    "print(f'=== COMPSLAM =========================================================')\n",
    "compslam_traj = convert_to_traj(compslam_trajectories[idx])\n",
    "gt_traj = convert_to_traj(gt_trajectories[idx])\n",
    "gt_traj, compslam_traj = sync.associate_trajectories(gt_traj, compslam_traj, max_diff)\n",
    "compslam_traj.align(gt_traj, correct_scale=False, correct_only_scale=False, n=1000)\n",
    "\n",
    "data = (gt_traj, compslam_traj)\n",
    "perform_evaluation_using_data(data, delta, delta_unit, all_pairs)\n",
    "\n",
    "\n",
    "print(f'=== Maplab ===========================================================')\n",
    "server_traj = convert_to_traj(server_trajectories[idx])\n",
    "gt_traj = convert_to_traj(gt_trajectories[idx])\n",
    "gt_traj, server_traj = sync.associate_trajectories(gt_traj, server_traj, max_diff)\n",
    "server_traj.align(gt_traj, correct_scale=False, correct_only_scale=False, n=1000)\n",
    "\n",
    "data = (gt_traj, server_traj)\n",
    "perform_evaluation_using_data(data, delta, delta_unit, all_pairs)"
   ]
  }
 ],
 "metadata": {
  "kernelspec": {
   "display_name": "Python 3",
   "language": "python",
   "name": "python3"
  },
  "language_info": {
   "codemirror_mode": {
    "name": "ipython",
    "version": 3
   },
   "file_extension": ".py",
   "mimetype": "text/x-python",
   "name": "python",
   "nbconvert_exporter": "python",
   "pygments_lexer": "ipython3",
   "version": "3.6.9"
  }
 },
 "nbformat": 4,
 "nbformat_minor": 4
}
