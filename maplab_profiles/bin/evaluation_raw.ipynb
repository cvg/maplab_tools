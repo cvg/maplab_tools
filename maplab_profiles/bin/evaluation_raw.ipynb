{
 "cells": [
  {
   "cell_type": "markdown",
   "metadata": {},
   "source": [
    "# Raw Evaluation wrt GT"
   ]
  },
  {
   "cell_type": "code",
   "execution_count": 2,
   "metadata": {},
   "outputs": [],
   "source": [
    "%matplotlib widget\n",
    "\n",
    "import numpy as np\n",
    "import matplotlib.pyplot as plt\n",
    "from mpl_toolkits.mplot3d import axes3d \n",
    "\n",
    "import pandas as pd\n",
    "import os\n",
    "import pprint\n",
    "\n",
    "from evo.core.trajectory import PoseTrajectory3D\n",
    "from evo.tools import plot\n",
    "from evo.core import metrics\n",
    "from evo.core import sync\n",
    "\n",
    "from pose_trajectory_evaluation import PoseTrajectoryEvaluation\n",
    "\n",
    "%reload_ext autoreload\n",
    "%autoreload 2"
   ]
  },
  {
   "cell_type": "code",
   "execution_count": 19,
   "metadata": {},
   "outputs": [
    {
     "name": "stdout",
     "output_type": "stream",
     "text": [
      "Loaded 1 missions.\n",
      "GT poses: 1443\n",
      "Compslam poses: 2223\n"
     ]
    }
   ],
   "source": [
    "export_path = '/mnt/data/datasets/fgsp/gt/h_floor_anymal_2/'\n",
    "# export_path = '/mnt/data/datasets/fgsp/gt/hagerbach_anymal_2/'\n",
    "n = 0\n",
    "\n",
    "compslam_trajectories = []\n",
    "gt_trajectories = []\n",
    "\n",
    "for i in range(0, n+1):\n",
    "    compslam_traj_filename = export_path + 'compslam_baseline_1.npy'\n",
    "    gt_traj_filename = export_path + 'gt.npy'\n",
    "\n",
    "    compslam_trajectories.append(np.load(compslam_traj_filename))\n",
    "    gt_trajectories.append(np.load(gt_traj_filename))\n",
    "assert len(gt_trajectories) == len(compslam_trajectories)\n",
    "\n",
    "\n",
    "print(f'Loaded {len(gt_trajectories)} missions.')\n",
    "print(f'GT poses: {gt_trajectories[0].shape[0]}')\n",
    "print(f'Compslam poses: {compslam_trajectories[0].shape[0]}')"
   ]
  },
  {
   "cell_type": "code",
   "execution_count": 20,
   "metadata": {},
   "outputs": [
    {
     "name": "stderr",
     "output_type": "stream",
     "text": [
      "[PoseTrajectoryEvaluation] No trajectories are given!\n"
     ]
    },
    {
     "name": "stdout",
     "output_type": "stream",
     "text": [
      "Maplab poses: 255\n"
     ]
    }
   ],
   "source": [
    "export_server_path = '/home/berlukas/Documents/results/h_floor_bkp/merged_map/'\n",
    "# export_server_path = '/tmp/maplab_server/merged_map/'\n",
    "csv_file = 'vertex_poses_velocities_biases.csv'\n",
    "server_trajectories = []\n",
    "eval = PoseTrajectoryEvaluation()\n",
    "\n",
    "anymal_1_ms = '6b860e87b1969a160f00000000000000'\n",
    "anymal_2_ms = 'ee0496a01b979a160f00000000000000'\n",
    "anymal_2_ms_2 = 'ae2843fe27e69e160f00000000000000'\n",
    "\n",
    "\n",
    "server_df = eval.get_mission_from_csv(export_server_path + csv_file, anymal_2_ms)\n",
    "server_trajectories.append(eval.convert_df_to_traj(server_df))\n",
    "\n",
    "print(f'Maplab poses: {server_trajectories[0].shape[0]}')"
   ]
  },
  {
   "cell_type": "code",
   "execution_count": 8,
   "metadata": {},
   "outputs": [
    {
     "name": "stderr",
     "output_type": "stream",
     "text": [
      "[PoseTrajectoryEvaluation] No trajectories are given!\n"
     ]
    },
    {
     "name": "stdout",
     "output_type": "stream",
     "text": [
      "Maplab poses: 2605\n"
     ]
    }
   ],
   "source": [
    "export_server_path = '/home/berlukas/Documents/results/hagerbach_july/mission_05_opt_2/'\n",
    "export_server_path = '/home/berlukas/Documents/results/icra_2022/hagerbach_anymal_2/'\n",
    "csv_file = 'vertex_poses_velocities_biases.csv'\n",
    "server_trajectories = []\n",
    "eval = PoseTrajectoryEvaluation()\n",
    "\n",
    "anymal_1_ms = '5b4100ac6cf495160f00000000000000'\n",
    "anymal_2_ms = '970e3236aaf495160f00000000000000'\n",
    "anymal_2_ms_2 = '74e2673020de9e160f00000000000000' \n",
    "anymal_5_ms = '977aa80858f595160e00000000000000'\n",
    "\n",
    "server_df = eval.get_mission_from_csv(export_server_path + csv_file, anymal_2_ms_2)\n",
    "server_trajectories.append(eval.convert_df_to_traj(server_df))\n",
    "\n",
    "print(f'Maplab poses: {server_trajectories[0].shape[0]}')"
   ]
  },
  {
   "cell_type": "markdown",
   "metadata": {},
   "source": [
    "------------------------------------------------------"
   ]
  },
  {
   "cell_type": "code",
   "execution_count": 21,
   "metadata": {},
   "outputs": [
    {
     "name": "stdout",
     "output_type": "stream",
     "text": [
      "Maplab poses: 250 vs. 250\n"
     ]
    }
   ],
   "source": [
    "max_diff = 0.1\n",
    "\n",
    "delta = 10\n",
    "delta_unit = metrics.Unit.frames\n",
    "all_pairs = False\n",
    "\n",
    "# skip the first few estimates due to the darpa alignment\n",
    "compslam_trajectories[0] = compslam_trajectories[0][10:,:]\n",
    "server_trajectories[0] = server_trajectories[0][5:,:]\n",
    "# server_trajectories[0] = server_trajectories[0][0:len(server_trajectories[0])-255,:]\n",
    "\n",
    "print(f'Maplab poses: {server_trajectories[0].shape[0]} vs. {len(server_trajectories[0])}')"
   ]
  },
  {
   "cell_type": "code",
   "execution_count": 46,
   "metadata": {},
   "outputs": [],
   "source": [
    "gt_trajectories[0] = gt_trajectories[0][0:len(gt_trajectories[0])-255,:]"
   ]
  },
  {
   "cell_type": "code",
   "execution_count": 11,
   "metadata": {},
   "outputs": [],
   "source": [
    "def plot_evaluations_APE(data, ape_metric, ape_stats):\n",
    "    # Trajectory plot\n",
    "    fig = plt.figure(figsize=(8, 6), dpi=160)\n",
    "    traj_by_label = {\n",
    "        \"estimate\": data[1],\n",
    "        \"reference\": data[0]\n",
    "    }\n",
    "    plot.trajectories(fig, traj_by_label, plot.PlotMode.xy)\n",
    "    plt.show()\n",
    "\n",
    "    # Trajectory plot\n",
    "    seconds_from_start = [t - data[1].timestamps[0] for t in data[1].timestamps]\n",
    "    fig = plt.figure(figsize=(8, 6), dpi=160)\n",
    "    plot.error_array(fig.gca(), ape_metric.error, x_array=seconds_from_start,\n",
    "                     statistics={s:v for s,v in ape_stats.items() if s != \"sse\"},\n",
    "                     name=\"APE\", title=\"APE w.r.t. \" + ape_metric.pose_relation.value, xlabel=\"$t$ (s)\")\n",
    "    plt.show()\n",
    "\n",
    "    plot_mode = plot.PlotMode.xy\n",
    "    fig = plt.figure(figsize=(8, 6), dpi=160)\n",
    "    ax = plot.prepare_axis(fig, plot_mode)\n",
    "    plot.traj(ax, plot_mode, gt_traj, '--', \"gray\", \"reference\")\n",
    "    plot.traj_colormap(ax, data[1], ape_metric.error, \n",
    "                       plot_mode, min_map=ape_stats[\"min\"], max_map=ape_stats[\"max\"])\n",
    "    ax.legend()\n",
    "    plt.show()\n",
    "\n",
    "def perform_evaluation_using_data(data, delta, delta_unit, all_pairs):\n",
    "    print('--- Translational Part -----------------------------')\n",
    "    pose_relation = metrics.PoseRelation.translation_part\n",
    "    print('APE:')\n",
    "    ape_metric_trans = metrics.APE(pose_relation)\n",
    "    ape_metric_trans.process_data(data)\n",
    "    ape_stat_trans = ape_metric_trans.get_statistic(metrics.StatisticsType.rmse)\n",
    "    ape_stats_trans = ape_metric_trans.get_all_statistics()\n",
    "    pprint.pprint(ape_stats_trans)\n",
    "\n",
    "#     print('RPE:')\n",
    "#     rpe_metric_trans = metrics.RPE(pose_relation, delta, delta_unit, all_pairs)\n",
    "#     rpe_metric_trans.process_data(data)\n",
    "#     rpe_stat_trans = rpe_metric_trans.get_statistic(metrics.StatisticsType.rmse)\n",
    "#     rpe_stats_trans = rpe_metric_trans.get_all_statistics()\n",
    "#     pprint.pprint(rpe_stats_trans)\n",
    "#     print('\\n\\n')\n",
    "\n",
    "    print('--- Rotational Part -----------------------------')\n",
    "    pose_relation = metrics.PoseRelation.rotation_angle_deg\n",
    "    print('APE:')\n",
    "    ape_metric_rot = metrics.APE(pose_relation)\n",
    "    ape_metric_rot.process_data(data)\n",
    "    ape_stat_rot = ape_metric_rot.get_statistic(metrics.StatisticsType.rmse)\n",
    "    ape_stats_rot = ape_metric_rot.get_all_statistics()\n",
    "    pprint.pprint(ape_stats_rot)\n",
    "\n",
    "#     print('RPE:')\n",
    "#     rpe_metric_rot = metrics.RPE(pose_relation, delta, delta_unit, all_pairs)\n",
    "#     rpe_metric_rot.process_data(data)\n",
    "#     rpe_stat_rot = rpe_metric_rot.get_statistic(metrics.StatisticsType.rmse)\n",
    "#     rpe_stats_rot = rpe_metric_rot.get_all_statistics()\n",
    "#     pprint.pprint(rpe_stats_rot)\n",
    "\n",
    "    plot_evaluations_APE(data, ape_metric_trans, ape_stats_trans)"
   ]
  },
  {
   "cell_type": "code",
   "execution_count": 22,
   "metadata": {},
   "outputs": [
    {
     "name": "stdout",
     "output_type": "stream",
     "text": [
      "=== COMPSLAM =========================================================\n",
      "--- Translational Part -----------------------------\n",
      "APE:\n",
      "{'max': 0.886213915635491,\n",
      " 'mean': 0.1702950254493191,\n",
      " 'median': 0.14663396374530102,\n",
      " 'min': 0.0072119875809773535,\n",
      " 'rmse': 0.19624108740590893,\n",
      " 'sse': 55.570744409363925,\n",
      " 'std': 0.0975200937933785}\n",
      "--- Rotational Part -----------------------------\n",
      "APE:\n",
      "{'max': 7.852550688819115,\n",
      " 'mean': 3.2672522060998967,\n",
      " 'median': 3.166408593606693,\n",
      " 'min': 0.5678384726393401,\n",
      " 'rmse': 3.434859738308721,\n",
      " 'sse': 17024.89123173569,\n",
      " 'std': 1.0598700125909837}\n"
     ]
    },
    {
     "name": "stderr",
     "output_type": "stream",
     "text": [
      "/usr/local/lib/python3.6/dist-packages/matplotlib/pyplot.py:522: RuntimeWarning: More than 20 figures have been opened. Figures created through the pyplot interface (`matplotlib.pyplot.figure`) are retained until explicitly closed and may consume too much memory. (To control this warning, see the rcParam `figure.max_open_warning`).\n",
      "  max_open_warning, RuntimeWarning)\n",
      "/usr/local/lib/python3.6/dist-packages/matplotlib/__init__.py:941: MatplotlibDeprecationWarning: nbagg.transparent is deprecated and ignored. Use figure.facecolor instead.\n",
      "  mplDeprecation)\n"
     ]
    },
    {
     "data": {
      "application/vnd.jupyter.widget-view+json": {
       "model_id": "a1c54d21c6194a6792d53b624952179b",
       "version_major": 2,
       "version_minor": 0
      },
      "text/plain": [
       "Canvas(toolbar=Toolbar(toolitems=[('Home', 'Reset original view', 'home', 'home'), ('Back', 'Back to  previous…"
      ]
     },
     "metadata": {},
     "output_type": "display_data"
    },
    {
     "data": {
      "application/vnd.jupyter.widget-view+json": {
       "model_id": "1af5600e3046457cb24eebcb1ff450d7",
       "version_major": 2,
       "version_minor": 0
      },
      "text/plain": [
       "Canvas(toolbar=Toolbar(toolitems=[('Home', 'Reset original view', 'home', 'home'), ('Back', 'Back to  previous…"
      ]
     },
     "metadata": {},
     "output_type": "display_data"
    },
    {
     "data": {
      "application/vnd.jupyter.widget-view+json": {
       "model_id": "5417c307393048a887781622954d3eb8",
       "version_major": 2,
       "version_minor": 0
      },
      "text/plain": [
       "Canvas(toolbar=Toolbar(toolitems=[('Home', 'Reset original view', 'home', 'home'), ('Back', 'Back to  previous…"
      ]
     },
     "metadata": {},
     "output_type": "display_data"
    },
    {
     "name": "stdout",
     "output_type": "stream",
     "text": [
      "=== Maplab ===========================================================\n",
      "--- Translational Part -----------------------------\n",
      "APE:\n",
      "{'max': 0.5044232251345656,\n",
      " 'mean': 0.12701936909240963,\n",
      " 'median': 0.1039512381117575,\n",
      " 'min': 0.01607007186423115,\n",
      " 'rmse': 0.1494734417568519,\n",
      " 'sse': 5.094046632265692,\n",
      " 'std': 0.07879333516234237}\n",
      "--- Rotational Part -----------------------------\n",
      "APE:\n",
      "{'max': 5.8530238180976415,\n",
      " 'mean': 3.3097383212863267,\n",
      " 'median': 3.337040380338093,\n",
      " 'min': 1.2631498262764802,\n",
      " 'rmse': 3.402513098441686,\n",
      " 'sse': 2639.577747795331,\n",
      " 'std': 0.7891309331638253}\n"
     ]
    },
    {
     "data": {
      "application/vnd.jupyter.widget-view+json": {
       "model_id": "2ca799d9d50b4a46abf8bc68da55b81f",
       "version_major": 2,
       "version_minor": 0
      },
      "text/plain": [
       "Canvas(toolbar=Toolbar(toolitems=[('Home', 'Reset original view', 'home', 'home'), ('Back', 'Back to  previous…"
      ]
     },
     "metadata": {},
     "output_type": "display_data"
    },
    {
     "data": {
      "application/vnd.jupyter.widget-view+json": {
       "model_id": "0703446a5201457dbf95b02adb5498dc",
       "version_major": 2,
       "version_minor": 0
      },
      "text/plain": [
       "Canvas(toolbar=Toolbar(toolitems=[('Home', 'Reset original view', 'home', 'home'), ('Back', 'Back to  previous…"
      ]
     },
     "metadata": {},
     "output_type": "display_data"
    },
    {
     "data": {
      "application/vnd.jupyter.widget-view+json": {
       "model_id": "ff531a2d922344f3a3821641cbb04ba5",
       "version_major": 2,
       "version_minor": 0
      },
      "text/plain": [
       "Canvas(toolbar=Toolbar(toolitems=[('Home', 'Reset original view', 'home', 'home'), ('Back', 'Back to  previous…"
      ]
     },
     "metadata": {},
     "output_type": "display_data"
    }
   ],
   "source": [
    "idx = 0\n",
    "\n",
    "def ts_ns_to_seconds(ts_ns):\n",
    "    k_ns_per_s = 1e9;\n",
    "    return ts_ns / k_ns_per_s;\n",
    "\n",
    "def convert_to_traj(trajectory):\n",
    "    ts = ts_ns_to_seconds(trajectory[:,0])\n",
    "    xyz = trajectory[:,1:4]\n",
    "    wxyz = trajectory[:,4:8]\n",
    "    return PoseTrajectory3D(positions_xyz = xyz, orientations_quat_wxyz = wxyz, timestamps = ts)\n",
    "\n",
    "print(f'=== COMPSLAM =========================================================')\n",
    "compslam_traj = convert_to_traj(compslam_trajectories[idx])\n",
    "gt_traj = convert_to_traj(gt_trajectories[idx])\n",
    "gt_traj, compslam_traj = sync.associate_trajectories(gt_traj, compslam_traj, max_diff)\n",
    "compslam_traj.align(gt_traj, correct_scale=False, correct_only_scale=False, n=1000)\n",
    "\n",
    "data = (gt_traj, compslam_traj)\n",
    "perform_evaluation_using_data(data, delta, delta_unit, all_pairs)\n",
    "\n",
    "\n",
    "print(f'=== Maplab ===========================================================')\n",
    "server_traj = convert_to_traj(server_trajectories[idx])\n",
    "gt_traj = convert_to_traj(gt_trajectories[idx])\n",
    "gt_traj, server_traj = sync.associate_trajectories(gt_traj, server_traj, max_diff)\n",
    "server_traj.align(gt_traj, correct_scale=False, correct_only_scale=False, n=1000)\n",
    "\n",
    "data = (gt_traj, server_traj)\n",
    "perform_evaluation_using_data(data, delta, delta_unit, all_pairs)"
   ]
  }
 ],
 "metadata": {
  "kernelspec": {
   "display_name": "Python 3",
   "language": "python",
   "name": "python3"
  },
  "language_info": {
   "codemirror_mode": {
    "name": "ipython",
    "version": 3
   },
   "file_extension": ".py",
   "mimetype": "text/x-python",
   "name": "python",
   "nbconvert_exporter": "python",
   "pygments_lexer": "ipython3",
   "version": "3.6.9"
  }
 },
 "nbformat": 4,
 "nbformat_minor": 4
}
