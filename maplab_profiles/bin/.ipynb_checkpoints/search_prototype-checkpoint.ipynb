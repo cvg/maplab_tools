{
 "cells": [
  {
   "cell_type": "markdown",
   "metadata": {},
   "source": [
    "# Grid Search Prototype"
   ]
  },
  {
   "cell_type": "code",
   "execution_count": 4,
   "metadata": {},
   "outputs": [],
   "source": [
    "import rospy\n",
    "import time\n",
    "import numpy as np\n",
    "import sys\n",
    "import yaml\n",
    "import os\n",
    "from os.path import exists\n",
    "from ray import tune\n",
    "import ray\n",
    "from multiprocessing import Lock\n",
    "from functools import partial\n",
    "from config import ProfilerConfig\n",
    "from pose_trajectory_evaluation import PoseTrajectoryEvaluation\n",
    "\n",
    "%matplotlib inline\n",
    "# %matplotlib notebook\n",
    "%reload_ext autoreload\n",
    "%autoreload 2"
   ]
  },
  {
   "cell_type": "code",
   "execution_count": 8,
   "metadata": {},
   "outputs": [
    {
     "name": "stdout",
     "output_type": "stream",
     "text": [
      "Loading from /home/berlukas/Documents/workspace/darpa/src/darpa_subt_mapping/maplab/dependencies/internal/maplab_tools/maplab_profiles/config/debug_grid_search.yaml\n"
     ]
    }
   ],
   "source": [
    "def read_grid_search_params(grid_search_params_file, tune_config):\n",
    "    if not exists(grid_search_params_file):\n",
    "        print('Found no grid search parameters.')\n",
    "        return tune_config\n",
    "\n",
    "    try:\n",
    "        with open(grid_search_params_file) as f:\n",
    "            data = yaml.load(f, Loader=yaml.FullLoader)\n",
    "            for key, value in data.items():\n",
    "                tune_config[key] = tune.grid_search(value)\n",
    "    except Exception as e:\n",
    "        print('[Profiler] Unable to read and set grid search params at {file}'.format(file=grid_search_params_file))\n",
    "        print(e)\n",
    "    return tune_config\n",
    "\n",
    "\n",
    "config_root = '/home/berlukas/Documents/workspace/darpa/src/darpa_subt_mapping/maplab/dependencies/internal/maplab_tools/maplab_profiles/config/'\n",
    "profiling_grid_search_params_file = 'debug_grid_search'\n",
    "grid_search_params_file = config_root + profiling_grid_search_params_file + '.yaml'\n",
    "\n",
    "print(f'Loading from {grid_search_params_file}')\n",
    "\n"
   ]
  },
  {
   "cell_type": "code",
   "execution_count": null,
   "metadata": {},
   "outputs": [],
   "source": []
  }
 ],
 "metadata": {
  "kernelspec": {
   "display_name": "Python 3",
   "language": "python",
   "name": "python3"
  },
  "language_info": {
   "codemirror_mode": {
    "name": "ipython",
    "version": 3
   },
   "file_extension": ".py",
   "mimetype": "text/x-python",
   "name": "python",
   "nbconvert_exporter": "python",
   "pygments_lexer": "ipython3",
   "version": "3.6.9"
  }
 },
 "nbformat": 4,
 "nbformat_minor": 4
}
