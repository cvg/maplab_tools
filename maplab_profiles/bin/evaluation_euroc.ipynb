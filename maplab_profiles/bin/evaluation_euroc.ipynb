{
 "cells": [
  {
   "cell_type": "markdown",
   "metadata": {},
   "source": [
    "# EuRoc Evaluation wrt GT"
   ]
  },
  {
   "cell_type": "code",
   "execution_count": 2,
   "metadata": {},
   "outputs": [],
   "source": [
    "%matplotlib widget\n",
    "\n",
    "import numpy as np\n",
    "import matplotlib.pyplot as plt\n",
    "from mpl_toolkits.mplot3d import axes3d \n",
    "\n",
    "import pandas as pd\n",
    "import os\n",
    "import pprint\n",
    "\n",
    "from evo.core.trajectory import PoseTrajectory3D\n",
    "from evo.tools import plot\n",
    "from evo.core import metrics\n",
    "from evo.core import sync\n",
    "\n",
    "from pose_trajectory_evaluation import PoseTrajectoryEvaluation\n",
    "\n",
    "%reload_ext autoreload\n",
    "%autoreload 2"
   ]
  },
  {
   "cell_type": "code",
   "execution_count": 26,
   "metadata": {},
   "outputs": [
    {
     "name": "stdout",
     "output_type": "stream",
     "text": [
      "Loaded 3 missions.\n"
     ]
    }
   ],
   "source": [
    "dataset_path = '/media/berlukas/Data/data/datasets/EuRoc/'\n",
    "export_paths = ['MH_01', 'MH_02', 'MH_03']\n",
    "exported_missions = ['c3d7929a77bba0160c00000000000000', '8fc4b6d277bba0160c00000000000000', 'c5043f496abba0160c00000000000000']\n",
    "eval = PoseTrajectoryEvaluation()\n",
    "\n",
    "est_trajectories = []\n",
    "gt_trajectories = []\n",
    "\n",
    "assert len(export_paths) == len(exported_missions)\n",
    "for export_path, mission_id in zip(export_paths, exported_missions):\n",
    "    est_traj_filename = dataset_path + 'MH_est.csv'\n",
    "    gt_traj_filename = dataset_path + export_path + '_gt.csv'\n",
    "\n",
    "    est_df = eval.get_mission_from_csv(est_traj_filename, mission_id)\n",
    "    est_trajectories.append(eval.convert_df_to_traj(est_df))\n",
    "    \n",
    "    gt_df = eval.parse_trajectory_txt(gt_traj_filename, delimiter = ',')\n",
    "    gt_trajectories.append(eval.convert_df_to_traj(gt_df))\n",
    "    \n",
    "assert len(gt_trajectories) == len(est_trajectories)\n",
    "print(f'Loaded {len(gt_trajectories)} missions.')"
   ]
  },
  {
   "cell_type": "markdown",
   "metadata": {},
   "source": [
    "------------------------------------------------------"
   ]
  },
  {
   "cell_type": "code",
   "execution_count": 4,
   "metadata": {},
   "outputs": [],
   "source": [
    "max_diff = 10\n",
    "\n",
    "delta = 10\n",
    "delta_unit = metrics.Unit.frames\n",
    "all_pairs = False"
   ]
  },
  {
   "cell_type": "code",
   "execution_count": 5,
   "metadata": {},
   "outputs": [],
   "source": [
    "def plot_evaluations_APE(data, ape_metric, ape_stats):\n",
    "    # Trajectory plot\n",
    "    fig = plt.figure(figsize=(8, 6), dpi=160)\n",
    "    traj_by_label = {\n",
    "        \"estimate\": data[1],\n",
    "        \"reference\": data[0]\n",
    "    }\n",
    "    plot.trajectories(fig, traj_by_label, plot.PlotMode.xy)\n",
    "    plt.show()\n",
    "\n",
    "    # Trajectory plot\n",
    "    seconds_from_start = [t - data[1].timestamps[0] for t in data[1].timestamps]\n",
    "    fig = plt.figure(figsize=(8, 6), dpi=160)\n",
    "    plot.error_array(fig.gca(), ape_metric.error, x_array=seconds_from_start,\n",
    "                     statistics={s:v for s,v in ape_stats.items() if s != \"sse\"},\n",
    "                     name=\"APE\", title=\"APE w.r.t. \" + ape_metric.pose_relation.value, xlabel=\"$t$ (s)\")\n",
    "    plt.show()\n",
    "\n",
    "    plot_mode = plot.PlotMode.xy\n",
    "    fig = plt.figure(figsize=(8, 6), dpi=160)\n",
    "    ax = plot.prepare_axis(fig, plot_mode)\n",
    "    plot.traj(ax, plot_mode, gt_traj, '--', \"gray\", \"reference\")\n",
    "    plot.traj_colormap(ax, data[1], ape_metric.error, \n",
    "                       plot_mode, min_map=ape_stats[\"min\"], max_map=ape_stats[\"max\"])\n",
    "    ax.legend()\n",
    "    plt.show()\n",
    "\n",
    "def perform_evaluation_using_data(data, delta, delta_unit, all_pairs):\n",
    "    print('--- Translational Part -----------------------------')\n",
    "    pose_relation = metrics.PoseRelation.translation_part\n",
    "    print('APE:')\n",
    "    ape_metric_trans = metrics.APE(pose_relation)\n",
    "    ape_metric_trans.process_data(data)\n",
    "    ape_stat_trans = ape_metric_trans.get_statistic(metrics.StatisticsType.rmse)\n",
    "    ape_stats_trans = ape_metric_trans.get_all_statistics()\n",
    "    pprint.pprint(ape_stats_trans)\n",
    "\n",
    "#     print('RPE:')\n",
    "#     rpe_metric_trans = metrics.RPE(pose_relation, delta, delta_unit, all_pairs)\n",
    "#     rpe_metric_trans.process_data(data)\n",
    "#     rpe_stat_trans = rpe_metric_trans.get_statistic(metrics.StatisticsType.rmse)\n",
    "#     rpe_stats_trans = rpe_metric_trans.get_all_statistics()\n",
    "#     pprint.pprint(rpe_stats_trans)\n",
    "#     print('\\n\\n')\n",
    "\n",
    "    print('--- Rotational Part -----------------------------')\n",
    "    pose_relation = metrics.PoseRelation.rotation_angle_deg\n",
    "    print('APE:')\n",
    "    ape_metric_rot = metrics.APE(pose_relation)\n",
    "    ape_metric_rot.process_data(data)\n",
    "    ape_stat_rot = ape_metric_rot.get_statistic(metrics.StatisticsType.rmse)\n",
    "    ape_stats_rot = ape_metric_rot.get_all_statistics()\n",
    "    pprint.pprint(ape_stats_rot)\n",
    "\n",
    "#     print('RPE:')\n",
    "#     rpe_metric_rot = metrics.RPE(pose_relation, delta, delta_unit, all_pairs)\n",
    "#     rpe_metric_rot.process_data(data)\n",
    "#     rpe_stat_rot = rpe_metric_rot.get_statistic(metrics.StatisticsType.rmse)\n",
    "#     rpe_stats_rot = rpe_metric_rot.get_all_statistics()\n",
    "#     pprint.pprint(rpe_stats_rot)\n",
    "\n",
    "    plot_evaluations_APE(data, ape_metric_trans, ape_stats_trans)"
   ]
  },
  {
   "cell_type": "code",
   "execution_count": 29,
   "metadata": {},
   "outputs": [
    {
     "name": "stdout",
     "output_type": "stream",
     "text": [
      "=== Maplab ===========================================================\n",
      "--- Translational Part -----------------------------\n",
      "APE:\n",
      "{'max': 0.13168626378237247,\n",
      " 'mean': 0.01604921009186454,\n",
      " 'median': 0.013001668970449333,\n",
      " 'min': 0.0017859881543530582,\n",
      " 'rmse': 0.020270098942195156,\n",
      " 'sse': 0.0723143363582431,\n",
      " 'std': 0.012381428292146852}\n",
      "--- Rotational Part -----------------------------\n",
      "APE:\n",
      "{'max': 179.95834608730019,\n",
      " 'mean': 170.7740034846596,\n",
      " 'median': 172.60737491404802,\n",
      " 'min': 146.9440690879839,\n",
      " 'rmse': 170.88955303402082,\n",
      " 'sse': 5139770.123165466,\n",
      " 'std': 6.283237222076427}\n"
     ]
    },
    {
     "data": {
      "application/vnd.jupyter.widget-view+json": {
       "model_id": "8f7f9674f22042aeb652de5c9f1e390e",
       "version_major": 2,
       "version_minor": 0
      },
      "text/plain": [
       "Canvas(toolbar=Toolbar(toolitems=[('Home', 'Reset original view', 'home', 'home'), ('Back', 'Back to  previous…"
      ]
     },
     "metadata": {},
     "output_type": "display_data"
    },
    {
     "data": {
      "application/vnd.jupyter.widget-view+json": {
       "model_id": "620ca8b92cbd4b89aae1af66fa0fa736",
       "version_major": 2,
       "version_minor": 0
      },
      "text/plain": [
       "Canvas(toolbar=Toolbar(toolitems=[('Home', 'Reset original view', 'home', 'home'), ('Back', 'Back to  previous…"
      ]
     },
     "metadata": {},
     "output_type": "display_data"
    },
    {
     "name": "stderr",
     "output_type": "stream",
     "text": [
      "/usr/local/lib/python3.6/dist-packages/matplotlib/pyplot.py:522: RuntimeWarning: More than 20 figures have been opened. Figures created through the pyplot interface (`matplotlib.pyplot.figure`) are retained until explicitly closed and may consume too much memory. (To control this warning, see the rcParam `figure.max_open_warning`).\n",
      "  max_open_warning, RuntimeWarning)\n"
     ]
    },
    {
     "data": {
      "application/vnd.jupyter.widget-view+json": {
       "model_id": "a6969f24f6604a49a3ed00f81dc5f7b6",
       "version_major": 2,
       "version_minor": 0
      },
      "text/plain": [
       "Canvas(toolbar=Toolbar(toolitems=[('Home', 'Reset original view', 'home', 'home'), ('Back', 'Back to  previous…"
      ]
     },
     "metadata": {},
     "output_type": "display_data"
    }
   ],
   "source": [
    "def ts_ns_to_seconds(ts_ns):\n",
    "    k_ns_per_s = 1e9;\n",
    "    return ts_ns / k_ns_per_s;\n",
    "\n",
    "def convert_est_to_traj(trajectory):\n",
    "    ts = ts_ns_to_seconds(trajectory[:,0])\n",
    "    xyz = trajectory[:,1:4]\n",
    "    wxyz = trajectory[:,4:8]\n",
    "    return PoseTrajectory3D(positions_xyz = xyz, orientations_quat_wxyz = wxyz, timestamps = ts)\n",
    "\n",
    "def convert_gt_to_traj(trajectory):\n",
    "    ts = trajectory[:,0]\n",
    "    xyz = trajectory[:,1:4]\n",
    "    wxyz = trajectory[:,4:8]\n",
    "    return PoseTrajectory3D(positions_xyz = xyz, orientations_quat_wxyz = wxyz, timestamps = ts)\n",
    "\n",
    "idx = 0\n",
    "\n",
    "print(f'=== Maplab ===========================================================')\n",
    "est_traj = convert_est_to_traj(est_trajectories[idx])\n",
    "gt_traj = convert_est_to_traj(gt_trajectories[idx])\n",
    "gt_traj, est_traj = sync.associate_trajectories(gt_traj, est_traj, max_diff)\n",
    "est_traj.align(gt_traj, correct_scale=False, correct_only_scale=False)\n",
    "\n",
    "data = (gt_traj, est_traj)\n",
    "perform_evaluation_using_data(data, delta, delta_unit, all_pairs)"
   ]
  }
 ],
 "metadata": {
  "kernelspec": {
   "display_name": "Python 3",
   "language": "python",
   "name": "python3"
  },
  "language_info": {
   "codemirror_mode": {
    "name": "ipython",
    "version": 3
   },
   "file_extension": ".py",
   "mimetype": "text/x-python",
   "name": "python",
   "nbconvert_exporter": "python",
   "pygments_lexer": "ipython3",
   "version": "3.6.9"
  }
 },
 "nbformat": 4,
 "nbformat_minor": 4
}
