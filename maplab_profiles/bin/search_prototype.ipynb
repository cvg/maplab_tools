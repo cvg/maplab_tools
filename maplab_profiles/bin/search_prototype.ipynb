{
 "cells": [
  {
   "cell_type": "markdown",
   "metadata": {},
   "source": [
    "# Grid Search Prototype"
   ]
  },
  {
   "cell_type": "code",
   "execution_count": 4,
   "metadata": {},
   "outputs": [],
   "source": [
    "import rospy\n",
    "import time\n",
    "import numpy as np\n",
    "import sys\n",
    "import yaml\n",
    "import os\n",
    "from os.path import exists\n",
    "from ray import tune\n",
    "import ray\n",
    "from multiprocessing import Lock\n",
    "from functools import partial\n",
    "from config import ProfilerConfig\n",
    "from pose_trajectory_evaluation import PoseTrajectoryEvaluation\n",
    "from itertools import combinations, chain\n",
    "\n",
    "%matplotlib inline\n",
    "# %matplotlib notebook\n",
    "%reload_ext autoreload\n",
    "%autoreload 2"
   ]
  },
  {
   "cell_type": "code",
   "execution_count": 102,
   "metadata": {},
   "outputs": [
    {
     "name": "stdout",
     "output_type": "stream",
     "text": [
      "Loading from /home/berlukas/Documents/workspace/darpa/src/darpa_subt_mapping/maplab/dependencies/internal/maplab_tools/maplab_profiles/config/debug_grid_search.yaml\n",
      "Read the following: {'vi_map_landmark_quality_min_observers': [2, 3, 4], 'vi_map_landmark_quality_max_distance_from_closest_observer': [30, 40]}\n"
     ]
    }
   ],
   "source": [
    "def read_grid_search_params(grid_search_params_file, tune_config):\n",
    "    if not exists(grid_search_params_file):\n",
    "        print('Found no grid search parameters.')\n",
    "        return tune_config\n",
    "\n",
    "    try:\n",
    "        with open(grid_search_params_file) as f:\n",
    "            data = yaml.load(f, Loader=yaml.FullLoader)\n",
    "            for key, value in data.items():\n",
    "                tune_config[key] = value\n",
    "    except Exception as e:\n",
    "        print('[Profiler] Unable to read and set grid search params at {file}'.format(file=grid_search_params_file))\n",
    "        print(e)\n",
    "    return tune_config\n",
    "\n",
    "\n",
    "config_root = '/home/berlukas/Documents/workspace/darpa/src/darpa_subt_mapping/maplab/dependencies/internal/maplab_tools/maplab_profiles/config/'\n",
    "profiling_grid_search_params_file = 'debug_grid_search'\n",
    "grid_search_params_file = config_root + profiling_grid_search_params_file + '.yaml'\n",
    "\n",
    "print(f'Loading from {grid_search_params_file}')\n",
    "config = {}\n",
    "config = read_grid_search_params(grid_search_params_file, config)\n",
    "print(f'Read the following: {config}')"
   ]
  },
  {
   "cell_type": "code",
   "execution_count": 103,
   "metadata": {},
   "outputs": [
    {
     "name": "stdout",
     "output_type": "stream",
     "text": [
      "combination 1 is [0 0]\n",
      "combination 2 is [0 1]\n",
      "combination 3 is [1 0]\n",
      "combination 4 is [1 1]\n",
      "combination 5 is [2 0]\n",
      "combination 6 is [2 1]\n",
      "\n",
      "\n",
      "Printing values for [1 0]:\n",
      "param vi_map_landmark_quality_min_observers has value 3\n",
      "param vi_map_landmark_quality_max_distance_from_closest_observer has value 30\n"
     ]
    }
   ],
   "source": [
    "def generate_combinations(config):\n",
    "    values = [np.arange(0,len(x)) for x in config.values()]\n",
    "    grid = np.meshgrid(*values)\n",
    "    return np.array(grid).T.reshape(-1,len(values))\n",
    "        \n",
    "def print_all_combinations(combinations):\n",
    "    n_combinations = combinations.shape[0]\n",
    "    for i in range(0, n_combinations):\n",
    "        print(f'combination {i+1} is {combinations[i,:]}')\n",
    "    \n",
    "def print_combination(config, combination):\n",
    "    n_params = len(combination)\n",
    "    key_list = list(config.keys())\n",
    "    value_list = list(config.values())\n",
    "    for i in range(0, n_params):\n",
    "        print(f'param {key_list[i]} has value {value_list[i][combination[i]]}')\n",
    "    \n",
    "combinations = generate_combinations(config)\n",
    "print_combinations(combinations)\n",
    "\n",
    "print('\\n')\n",
    "comb = combinations[2,:]\n",
    "print(f'Printing values for {comb}:')\n",
    "print_combination(config, comb)"
   ]
  },
  {
   "cell_type": "code",
   "execution_count": 105,
   "metadata": {},
   "outputs": [
    {
     "name": "stdout",
     "output_type": "stream",
     "text": [
      "The best config [2 0] is:\n",
      "param vi_map_landmark_quality_min_observers has value 4\n",
      "param vi_map_landmark_quality_max_distance_from_closest_observer has value 30\n",
      "\n",
      "Top 3 configs: \n",
      "Top 0 config [2 0] is: \n",
      "param vi_map_landmark_quality_min_observers has value 4\n",
      "param vi_map_landmark_quality_max_distance_from_closest_observer has value 30\n",
      "--------------------\n",
      "Top 1 config [0 0] is: \n",
      "param vi_map_landmark_quality_min_observers has value 2\n",
      "param vi_map_landmark_quality_max_distance_from_closest_observer has value 30\n",
      "--------------------\n",
      "Top 2 config [1 1] is: \n",
      "param vi_map_landmark_quality_min_observers has value 3\n",
      "param vi_map_landmark_quality_max_distance_from_closest_observer has value 40\n",
      "--------------------\n"
     ]
    }
   ],
   "source": [
    "def find_best_config(losses, combinations):\n",
    "    min_loss = np.amin(losses)\n",
    "    cur_min_idx =  np.where(losses == min_loss)[0]\n",
    "    return combinations[cur_min_idx, :][0]\n",
    "\n",
    "def get_top_n_configs(losses, n, combinations):\n",
    "    sorted_losses = np.sort(losses)\n",
    "    best_n = []\n",
    "    for i in range(0,n):\n",
    "        cur_min_idx =  np.where(losses == sorted_losses[i])[0]\n",
    "        best_n.append(combinations[cur_min_idx, :])\n",
    "    return np.array(best_n).squeeze()\n",
    "    \n",
    "losses = np.random.rand((combinations.shape[0]))\n",
    "best_config = find_best_config(losses, combinations)\n",
    "print(f'The best config {best_config} is:')\n",
    "print_combination(config, best_config)\n",
    "\n",
    "top_3 = get_top_n_configs(losses, 3, combinations)\n",
    "print(f'\\nTop 3 configs: ')\n",
    "for i in range(0, 3):\n",
    "    print(f'Top {i} config {top_3[i,:]} is: ')\n",
    "    print_combination(config, top_3[i,:])    \n",
    "    print('--------------------')"
   ]
  },
  {
   "cell_type": "code",
   "execution_count": 104,
   "metadata": {},
   "outputs": [
    {
     "name": "stdout",
     "output_type": "stream",
     "text": [
      "calling func with: {'vi_map_landmark_quality_min_observers': 2, 'vi_map_landmark_quality_max_distance_from_closest_observer': 30}\n",
      "calling func with: {'vi_map_landmark_quality_min_observers': 2, 'vi_map_landmark_quality_max_distance_from_closest_observer': 40}\n",
      "calling func with: {'vi_map_landmark_quality_min_observers': 3, 'vi_map_landmark_quality_max_distance_from_closest_observer': 30}\n",
      "calling func with: {'vi_map_landmark_quality_min_observers': 3, 'vi_map_landmark_quality_max_distance_from_closest_observer': 40}\n",
      "calling func with: {'vi_map_landmark_quality_min_observers': 4, 'vi_map_landmark_quality_max_distance_from_closest_observer': 30}\n",
      "calling func with: {'vi_map_landmark_quality_min_observers': 4, 'vi_map_landmark_quality_max_distance_from_closest_observer': 40}\n"
     ]
    }
   ],
   "source": [
    "def create_config_from_combination(config, combination):\n",
    "    n_params = len(combination)\n",
    "    key_list = list(config.keys())\n",
    "    value_list = list(config.values())\n",
    "    configuration = {}\n",
    "    for i in range(0, n_params):        \n",
    "        configuration[key_list[i]] = value_list[i][combination[i]]\n",
    "    return configuration\n",
    "\n",
    "def train_func(configuration):\n",
    "    print(f'calling func with: {configuration}')\n",
    "\n",
    "n_configs = combinations.shape[0]\n",
    "for i in range(0, n_configs):\n",
    "    configuration = create_config_from_combination(config, combinations[i,:])    \n",
    "    train_func(configuration)"
   ]
  },
  {
   "cell_type": "code",
   "execution_count": 98,
   "metadata": {},
   "outputs": [],
   "source": [
    "config"
   ]
  }
 ],
 "metadata": {
  "kernelspec": {
   "display_name": "Python 3",
   "language": "python",
   "name": "python3"
  },
  "language_info": {
   "codemirror_mode": {
    "name": "ipython",
    "version": 3
   },
   "file_extension": ".py",
   "mimetype": "text/x-python",
   "name": "python",
   "nbconvert_exporter": "python",
   "pygments_lexer": "ipython3",
   "version": "3.6.9"
  }
 },
 "nbformat": 4,
 "nbformat_minor": 4
}
