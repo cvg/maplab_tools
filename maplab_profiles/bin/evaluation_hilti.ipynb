{
 "cells": [
  {
   "cell_type": "markdown",
   "metadata": {},
   "source": [
    "# Hilti Evaluation wrt GT"
   ]
  },
  {
   "cell_type": "code",
   "execution_count": 2,
   "metadata": {},
   "outputs": [],
   "source": [
    "%matplotlib widget\n",
    "\n",
    "import numpy as np\n",
    "import matplotlib.pyplot as plt\n",
    "from mpl_toolkits.mplot3d import axes3d \n",
    "\n",
    "import pandas as pd\n",
    "import os\n",
    "import pprint\n",
    "\n",
    "from evo.core.trajectory import PoseTrajectory3D\n",
    "from evo.tools import plot\n",
    "from evo.core import metrics\n",
    "from evo.core import sync\n",
    "\n",
    "from pose_trajectory_evaluation import PoseTrajectoryEvaluation\n",
    "\n",
    "%reload_ext autoreload\n",
    "%autoreload 2"
   ]
  },
  {
   "cell_type": "code",
   "execution_count": 79,
   "metadata": {},
   "outputs": [
    {
     "name": "stdout",
     "output_type": "stream",
     "text": [
      "Loaded 2 missions.\n"
     ]
    }
   ],
   "source": [
    "def transform_prism_position_to_imu(traj, T_prism_imu):\n",
    "    n_poses = traj.shape[0]\n",
    "    for i in range(n_poses):\n",
    "        t_map_prism = np.array([*traj[i,1:4], 1.0])\n",
    "        traj[i,1:4] = (t_map_prism @ T_prism_imu)[0:3]\n",
    "    return traj\n",
    "\n",
    "T_optitrack_prism = np.array(\n",
    "    [[1.0, 0.0, 0.0, 0.0],\n",
    "     [0.0, 1.0, 0.0, 0.0],\n",
    "     [0.0, 0.0, 1.0, 0.0],\n",
    "     [0.0, 0.0, 0.0, 1.0]])\n",
    "\n",
    "T_cam0_optitrack = np.array(\n",
    "    [[0.9837450,  0.1793231, -0.0094284, 0.05354253273380533],\n",
    "     [0.0085107,  0.0058861,  0.9999465, -0.2786560903711294],\n",
    "     [0.1793690, -0.9837726,  0.0042642, -0.057329537886130204],\n",
    "     [0.0, 0.0, 0.0, 1.0]])\n",
    "\n",
    "T_imu_cam0 = np.array(\n",
    "    [[-0.0028215, -0.0030748,  0.9999913, 0.05067834857850693],\n",
    "     [-0.9999955, -0.0010373, -0.0028247, 0.0458784339890185],\n",
    "     [0.0010459, -0.9999948, -0.0030718, -0.005943648304780761],\n",
    "     [0.0, 0.0, 0.0, 1.0]])\n",
    "\n",
    "# T_map_prism  -> T_map_imu\n",
    "T_prism_imu = np.linalg.inv(T_imu_cam0 @ T_cam0_optitrack @ T_optitrack_prism)\n",
    "\n",
    "export_paths = ['/media/berlukas/Data/data/datasets/Hilti/Lab/', '/media/berlukas/Data/data/datasets/Hilti/Basement_1/']\n",
    "exported_missions = ['53ab6674092fa0161000000000000000', '3dd89f6d25cca0161000000000000000']\n",
    "prisms = [False, True]\n",
    "eval = PoseTrajectoryEvaluation()\n",
    "\n",
    "est_trajectories = []\n",
    "gt_trajectories = []\n",
    "\n",
    "assert len(export_paths) == len(exported_missions)\n",
    "assert len(export_paths) == len(prisms)\n",
    "for export_path, mission_id, is_prism in zip(export_paths, exported_missions, prisms):\n",
    "    est_traj_filename = export_path + 'vertex_poses_velocities_biases.csv'\n",
    "    gt_traj_filename = export_path + 'gt.txt'\n",
    "\n",
    "    est_df = eval.get_mission_from_csv(est_traj_filename, mission_id)\n",
    "    est_trajectories.append(eval.convert_df_to_traj(est_df))\n",
    "    \n",
    "    gt_df = eval.parse_trajectory_txt(gt_traj_filename)\n",
    "    gt_traj = eval.convert_df_to_traj(gt_df)\n",
    "    if is_prism:\n",
    "        gt_trajectories.append(transform_prism_position_to_imu(gt_traj, T_prism_imu))\n",
    "    else:\n",
    "        gt_trajectories.append(gt_traj)\n",
    "    \n",
    "assert len(gt_trajectories) == len(est_trajectories)\n",
    "print(f'Loaded {len(gt_trajectories)} missions.')"
   ]
  },
  {
   "cell_type": "markdown",
   "metadata": {},
   "source": [
    "------------------------------------------------------"
   ]
  },
  {
   "cell_type": "code",
   "execution_count": 81,
   "metadata": {},
   "outputs": [],
   "source": [
    "max_diff = 0.1\n",
    "\n",
    "delta = 2\n",
    "delta_unit = metrics.Unit.frames\n",
    "all_pairs = False"
   ]
  },
  {
   "cell_type": "code",
   "execution_count": 53,
   "metadata": {},
   "outputs": [],
   "source": [
    "def plot_evaluations_APE(data, ape_metric, ape_stats):\n",
    "    # Trajectory plot\n",
    "    fig = plt.figure(figsize=(8, 6), dpi=160)\n",
    "    traj_by_label = {\n",
    "        \"estimate\": data[1],\n",
    "        \"reference\": data[0]\n",
    "    }\n",
    "    plot.trajectories(fig, traj_by_label, plot.PlotMode.xy)\n",
    "    plt.show()\n",
    "\n",
    "    # Trajectory plot\n",
    "    seconds_from_start = [t - data[1].timestamps[0] for t in data[1].timestamps]\n",
    "    fig = plt.figure(figsize=(8, 6), dpi=160)\n",
    "    plot.error_array(fig.gca(), ape_metric.error, x_array=seconds_from_start,\n",
    "                     statistics={s:v for s,v in ape_stats.items() if s != \"sse\"},\n",
    "                     name=\"APE\", title=\"APE w.r.t. \" + ape_metric.pose_relation.value, xlabel=\"$t$ (s)\")\n",
    "    plt.show()\n",
    "\n",
    "    plot_mode = plot.PlotMode.xy\n",
    "    fig = plt.figure(figsize=(8, 6), dpi=160)\n",
    "    ax = plot.prepare_axis(fig, plot_mode)\n",
    "    plot.traj(ax, plot_mode, gt_traj, '--', \"gray\", \"reference\")\n",
    "    plot.traj_colormap(ax, data[1], ape_metric.error, \n",
    "                       plot_mode, min_map=ape_stats[\"min\"], max_map=ape_stats[\"max\"])\n",
    "    ax.legend()\n",
    "    plt.show()\n",
    "\n",
    "def perform_evaluation_using_data(data, delta, delta_unit, all_pairs):\n",
    "    print('--- Translational Part -----------------------------')\n",
    "    pose_relation = metrics.PoseRelation.translation_part\n",
    "    print('APE:')\n",
    "    ape_metric_trans = metrics.APE(pose_relation)\n",
    "    ape_metric_trans.process_data(data)\n",
    "    ape_stat_trans = ape_metric_trans.get_statistic(metrics.StatisticsType.rmse)\n",
    "    ape_stats_trans = ape_metric_trans.get_all_statistics()\n",
    "    pprint.pprint(ape_stats_trans)\n",
    "\n",
    "    print('RPE:')\n",
    "    rpe_metric_trans = metrics.RPE(pose_relation, delta, delta_unit, all_pairs)\n",
    "    rpe_metric_trans.process_data(data)\n",
    "    rpe_stat_trans = rpe_metric_trans.get_statistic(metrics.StatisticsType.rmse)\n",
    "    rpe_stats_trans = rpe_metric_trans.get_all_statistics()\n",
    "    pprint.pprint(rpe_stats_trans)\n",
    "    print('\\n\\n')\n",
    "\n",
    "    print('--- Rotational Part -----------------------------')\n",
    "    pose_relation = metrics.PoseRelation.rotation_angle_deg\n",
    "    print('APE:')\n",
    "    ape_metric_rot = metrics.APE(pose_relation)\n",
    "    ape_metric_rot.process_data(data)\n",
    "    ape_stat_rot = ape_metric_rot.get_statistic(metrics.StatisticsType.rmse)\n",
    "    ape_stats_rot = ape_metric_rot.get_all_statistics()\n",
    "    pprint.pprint(ape_stats_rot)\n",
    "\n",
    "    print('RPE:')\n",
    "    rpe_metric_rot = metrics.RPE(pose_relation, delta, delta_unit, all_pairs)\n",
    "    rpe_metric_rot.process_data(data)\n",
    "    rpe_stat_rot = rpe_metric_rot.get_statistic(metrics.StatisticsType.rmse)\n",
    "    rpe_stats_rot = rpe_metric_rot.get_all_statistics()\n",
    "    pprint.pprint(rpe_stats_rot)\n",
    "\n",
    "    plot_evaluations_APE(data, ape_metric_trans, ape_stats_trans)"
   ]
  },
  {
   "cell_type": "code",
   "execution_count": 82,
   "metadata": {},
   "outputs": [
    {
     "name": "stdout",
     "output_type": "stream",
     "text": [
      "=== Maplab ===========================================================\n",
      "--- Translational Part -----------------------------\n",
      "APE:\n",
      "{'max': 0.21989922061305606,\n",
      " 'mean': 0.16425392436899508,\n",
      " 'median': 0.15560486546688224,\n",
      " 'min': 0.12590674592915976,\n",
      " 'rmse': 0.16783121472245693,\n",
      " 'sse': 0.11266926654086178,\n",
      " 'std': 0.03446686763545379}\n",
      "RPE:\n",
      "{'max': 19.60245203783361,\n",
      " 'mean': 19.60245203783361,\n",
      " 'median': 19.60245203783361,\n",
      " 'min': 19.60245203783361,\n",
      " 'rmse': 19.60245203783361,\n",
      " 'sse': 384.2561258955671,\n",
      " 'std': 0.0}\n",
      "\n",
      "\n",
      "\n",
      "--- Rotational Part -----------------------------\n",
      "APE:\n",
      "{'max': 92.60075031844376,\n",
      " 'mean': 68.06893978278768,\n",
      " 'median': 61.554073359358654,\n",
      " 'min': 56.56686209398965,\n",
      " 'rmse': 69.56019594656478,\n",
      " 'sse': 19354.483440497945,\n",
      " 'std': 14.326210139869906}\n",
      "RPE:\n",
      "{'max': 30.614294473226394,\n",
      " 'mean': 30.614294473226394,\n",
      " 'median': 30.614294473226394,\n",
      " 'min': 30.614294473226394,\n",
      " 'rmse': 30.614294473226394,\n",
      " 'sse': 937.2350260934202,\n",
      " 'std': 0.0}\n"
     ]
    },
    {
     "name": "stderr",
     "output_type": "stream",
     "text": [
      "/usr/local/lib/python3.6/dist-packages/matplotlib/pyplot.py:522: RuntimeWarning: More than 20 figures have been opened. Figures created through the pyplot interface (`matplotlib.pyplot.figure`) are retained until explicitly closed and may consume too much memory. (To control this warning, see the rcParam `figure.max_open_warning`).\n",
      "  max_open_warning, RuntimeWarning)\n",
      "/usr/local/lib/python3.6/dist-packages/matplotlib/__init__.py:941: MatplotlibDeprecationWarning: nbagg.transparent is deprecated and ignored. Use figure.facecolor instead.\n",
      "  mplDeprecation)\n"
     ]
    },
    {
     "data": {
      "application/vnd.jupyter.widget-view+json": {
       "model_id": "208e2bdd1d644d448258f69c67a125f8",
       "version_major": 2,
       "version_minor": 0
      },
      "text/plain": [
       "Canvas(toolbar=Toolbar(toolitems=[('Home', 'Reset original view', 'home', 'home'), ('Back', 'Back to  previous…"
      ]
     },
     "metadata": {},
     "output_type": "display_data"
    },
    {
     "data": {
      "application/vnd.jupyter.widget-view+json": {
       "model_id": "9015f80f35c24ce0965262d2c48528a5",
       "version_major": 2,
       "version_minor": 0
      },
      "text/plain": [
       "Canvas(toolbar=Toolbar(toolitems=[('Home', 'Reset original view', 'home', 'home'), ('Back', 'Back to  previous…"
      ]
     },
     "metadata": {},
     "output_type": "display_data"
    },
    {
     "data": {
      "application/vnd.jupyter.widget-view+json": {
       "model_id": "9a9bca1657b74bbab285f76b55360fe8",
       "version_major": 2,
       "version_minor": 0
      },
      "text/plain": [
       "Canvas(toolbar=Toolbar(toolitems=[('Home', 'Reset original view', 'home', 'home'), ('Back', 'Back to  previous…"
      ]
     },
     "metadata": {},
     "output_type": "display_data"
    }
   ],
   "source": [
    "def ts_ns_to_seconds(ts_ns):\n",
    "    k_ns_per_s = 1e9;\n",
    "    return ts_ns / k_ns_per_s;\n",
    "\n",
    "def convert_est_to_traj(trajectory):\n",
    "    ts = ts_ns_to_seconds(trajectory[:,0])\n",
    "    xyz = trajectory[:,1:4]\n",
    "    wxyz = trajectory[:,4:8]\n",
    "    return PoseTrajectory3D(positions_xyz = xyz, orientations_quat_wxyz = wxyz, timestamps = ts)\n",
    "\n",
    "def convert_gt_to_traj(trajectory):\n",
    "    ts = trajectory[:,0]\n",
    "    xyz = trajectory[:,1:4]\n",
    "    wxyz = trajectory[:,4:8]\n",
    "    return PoseTrajectory3D(positions_xyz = xyz, orientations_quat_wxyz = wxyz, timestamps = ts)\n",
    "\n",
    "idx = 1\n",
    "\n",
    "print(f'=== Maplab ===========================================================')\n",
    "est_traj = convert_est_to_traj(est_trajectories[idx])\n",
    "gt_traj = convert_gt_to_traj(gt_trajectories[idx])\n",
    "gt_traj, est_traj = sync.associate_trajectories(gt_traj, est_traj, max_diff)\n",
    "est_traj.align(gt_traj, correct_scale=False, correct_only_scale=False, n=4)\n",
    "# gt_traj.align(est_traj, correct_scale=False, correct_only_scale=False, n=4)\n",
    "\n",
    "data = (gt_traj, est_traj)\n",
    "perform_evaluation_using_data(data, delta, delta_unit, all_pairs)"
   ]
  },
  {
   "cell_type": "code",
   "execution_count": 67,
   "metadata": {},
   "outputs": [
    {
     "name": "stdout",
     "output_type": "stream",
     "text": [
      "1629728522.01\n",
      "1.6297285221327173e+18\n"
     ]
    }
   ],
   "source": [
    "print(gt_trajectories[0][0,0])\n",
    "print(est_trajectories[0][0,0])"
   ]
  }
 ],
 "metadata": {
  "kernelspec": {
   "display_name": "Python 3",
   "language": "python",
   "name": "python3"
  },
  "language_info": {
   "codemirror_mode": {
    "name": "ipython",
    "version": 3
   },
   "file_extension": ".py",
   "mimetype": "text/x-python",
   "name": "python",
   "nbconvert_exporter": "python",
   "pygments_lexer": "ipython3",
   "version": "3.6.9"
  }
 },
 "nbformat": 4,
 "nbformat_minor": 4
}
