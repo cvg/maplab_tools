{
 "cells": [
  {
   "cell_type": "markdown",
   "metadata": {},
   "source": [
    "# Hilti Evaluation wrt GT"
   ]
  },
  {
   "cell_type": "code",
   "execution_count": 2,
   "metadata": {},
   "outputs": [],
   "source": [
    "%matplotlib widget\n",
    "\n",
    "import numpy as np\n",
    "import matplotlib.pyplot as plt\n",
    "from mpl_toolkits.mplot3d import axes3d \n",
    "\n",
    "import pandas as pd\n",
    "import os\n",
    "import pprint\n",
    "\n",
    "from evo.core.trajectory import PoseTrajectory3D\n",
    "from evo.tools import plot\n",
    "from evo.core import metrics\n",
    "from evo.core import sync\n",
    "\n",
    "from pose_trajectory_evaluation import PoseTrajectoryEvaluation\n",
    "\n",
    "%reload_ext autoreload\n",
    "%autoreload 2"
   ]
  },
  {
   "cell_type": "code",
   "execution_count": 23,
   "metadata": {},
   "outputs": [
    {
     "name": "stdout",
     "output_type": "stream",
     "text": [
      "Loaded 1 missions.\n"
     ]
    }
   ],
   "source": [
    "export_paths = ['/media/berlukas/Data/data/datasets/Hilti/Lab/']\n",
    "exported_missions = ['53ab6674092fa0161000000000000000']\n",
    "eval = PoseTrajectoryEvaluation()\n",
    "\n",
    "est_trajectories = []\n",
    "gt_trajectories = []\n",
    "\n",
    "assert len(export_paths) == len(exported_missions)\n",
    "for export_path, mission_id in zip(export_paths, exported_missions):\n",
    "    est_traj_filename = export_path + 'vertex_poses_velocities_biases.csv'\n",
    "    gt_traj_filename = export_path + 'gt.txt'\n",
    "\n",
    "    est_df = eval.get_mission_from_csv(est_traj_filename, mission_id)\n",
    "    est_trajectories.append(eval.convert_df_to_traj(est_df))\n",
    "    \n",
    "    gt_df = eval.parse_trajectory_txt(gt_traj_filename)\n",
    "    gt_trajectories.append(eval.convert_df_to_traj(gt_df))\n",
    "    \n",
    "assert len(gt_trajectories) == len(est_trajectories)\n",
    "print(f'Loaded {len(gt_trajectories)} missions.')"
   ]
  },
  {
   "cell_type": "markdown",
   "metadata": {},
   "source": [
    "------------------------------------------------------"
   ]
  },
  {
   "cell_type": "code",
   "execution_count": 19,
   "metadata": {},
   "outputs": [],
   "source": [
    "max_diff = 10\n",
    "\n",
    "delta = 10\n",
    "delta_unit = metrics.Unit.frames\n",
    "all_pairs = False"
   ]
  },
  {
   "cell_type": "code",
   "execution_count": 17,
   "metadata": {},
   "outputs": [],
   "source": [
    "def plot_evaluations_APE(data, ape_metric, ape_stats):\n",
    "    # Trajectory plot\n",
    "    fig = plt.figure(figsize=(8, 6), dpi=160)\n",
    "    traj_by_label = {\n",
    "        \"estimate\": data[1],\n",
    "        \"reference\": data[0]\n",
    "    }\n",
    "    plot.trajectories(fig, traj_by_label, plot.PlotMode.xy)\n",
    "    plt.show()\n",
    "\n",
    "    # Trajectory plot\n",
    "    seconds_from_start = [t - data[1].timestamps[0] for t in data[1].timestamps]\n",
    "    fig = plt.figure(figsize=(8, 6), dpi=160)\n",
    "    plot.error_array(fig.gca(), ape_metric.error, x_array=seconds_from_start,\n",
    "                     statistics={s:v for s,v in ape_stats.items() if s != \"sse\"},\n",
    "                     name=\"APE\", title=\"APE w.r.t. \" + ape_metric.pose_relation.value, xlabel=\"$t$ (s)\")\n",
    "    plt.show()\n",
    "\n",
    "    plot_mode = plot.PlotMode.xy\n",
    "    fig = plt.figure(figsize=(8, 6), dpi=160)\n",
    "    ax = plot.prepare_axis(fig, plot_mode)\n",
    "    plot.traj(ax, plot_mode, gt_traj, '--', \"gray\", \"reference\")\n",
    "    plot.traj_colormap(ax, data[1], ape_metric.error, \n",
    "                       plot_mode, min_map=ape_stats[\"min\"], max_map=ape_stats[\"max\"])\n",
    "    ax.legend()\n",
    "    plt.show()\n",
    "\n",
    "def perform_evaluation_using_data(data, delta, delta_unit, all_pairs):\n",
    "    print('--- Translational Part -----------------------------')\n",
    "    pose_relation = metrics.PoseRelation.translation_part\n",
    "    print('APE:')\n",
    "    ape_metric_trans = metrics.APE(pose_relation)\n",
    "    ape_metric_trans.process_data(data)\n",
    "    ape_stat_trans = ape_metric_trans.get_statistic(metrics.StatisticsType.rmse)\n",
    "    ape_stats_trans = ape_metric_trans.get_all_statistics()\n",
    "    pprint.pprint(ape_stats_trans)\n",
    "\n",
    "    print('RPE:')\n",
    "    rpe_metric_trans = metrics.RPE(pose_relation, delta, delta_unit, all_pairs)\n",
    "    rpe_metric_trans.process_data(data)\n",
    "    rpe_stat_trans = rpe_metric_trans.get_statistic(metrics.StatisticsType.rmse)\n",
    "    rpe_stats_trans = rpe_metric_trans.get_all_statistics()\n",
    "    pprint.pprint(rpe_stats_trans)\n",
    "    print('\\n\\n')\n",
    "\n",
    "    print('--- Rotational Part -----------------------------')\n",
    "    pose_relation = metrics.PoseRelation.rotation_angle_deg\n",
    "    print('APE:')\n",
    "    ape_metric_rot = metrics.APE(pose_relation)\n",
    "    ape_metric_rot.process_data(data)\n",
    "    ape_stat_rot = ape_metric_rot.get_statistic(metrics.StatisticsType.rmse)\n",
    "    ape_stats_rot = ape_metric_rot.get_all_statistics()\n",
    "    pprint.pprint(ape_stats_rot)\n",
    "\n",
    "    print('RPE:')\n",
    "    rpe_metric_rot = metrics.RPE(pose_relation, delta, delta_unit, all_pairs)\n",
    "    rpe_metric_rot.process_data(data)\n",
    "    rpe_stat_rot = rpe_metric_rot.get_statistic(metrics.StatisticsType.rmse)\n",
    "    rpe_stats_rot = rpe_metric_rot.get_all_statistics()\n",
    "    pprint.pprint(rpe_stats_rot)\n",
    "\n",
    "    plot_evaluations_APE(data, ape_metric_trans, ape_stats_trans)"
   ]
  },
  {
   "cell_type": "code",
   "execution_count": 27,
   "metadata": {},
   "outputs": [
    {
     "name": "stdout",
     "output_type": "stream",
     "text": [
      "=== Maplab ===========================================================\n",
      "--- Translational Part -----------------------------\n",
      "APE:\n",
      "{'max': 0.07169184771696438,\n",
      " 'mean': 0.030891600201110876,\n",
      " 'median': 0.029309943754202126,\n",
      " 'min': 0.002435292561509256,\n",
      " 'rmse': 0.03424856981945188,\n",
      " 'sse': 1.5799832282110913,\n",
      " 'std': 0.01478761548366053}\n",
      "RPE:\n",
      "{'max': 0.0338321763732913,\n",
      " 'mean': 0.006790907803789793,\n",
      " 'median': 0.006502383766958317,\n",
      " 'min': 0.0003025169415477421,\n",
      " 'rmse': 0.009064891917099875,\n",
      " 'sse': 0.011011083572806158,\n",
      " 'std': 0.006004651252914658}\n",
      "\n",
      "\n",
      "\n",
      "--- Rotational Part -----------------------------\n",
      "APE:\n",
      "{'max': 2.9146563012794595,\n",
      " 'mean': 0.29159775120868925,\n",
      " 'median': 0.2571484173170258,\n",
      " 'min': 0.010137960602061227,\n",
      " 'rmse': 0.3976344703435531,\n",
      " 'sse': 212.97844269127108,\n",
      " 'std': 0.27034038450707537}\n",
      "RPE:\n",
      "{'max': 3.1299755346314546,\n",
      " 'mean': 0.2764057602219023,\n",
      " 'median': 0.12019843052288005,\n",
      " 'min': 0.004274006837371153,\n",
      " 'rmse': 0.5641993525870203,\n",
      " 'sse': 42.65500186758811,\n",
      " 'std': 0.4918544146144924}\n"
     ]
    },
    {
     "name": "stderr",
     "output_type": "stream",
     "text": [
      "/usr/local/lib/python3.6/dist-packages/matplotlib/__init__.py:941: MatplotlibDeprecationWarning: nbagg.transparent is deprecated and ignored. Use figure.facecolor instead.\n",
      "  mplDeprecation)\n"
     ]
    },
    {
     "data": {
      "application/vnd.jupyter.widget-view+json": {
       "model_id": "35de5e386b914357ad522c8cbd5e7436",
       "version_major": 2,
       "version_minor": 0
      },
      "text/plain": [
       "Canvas(toolbar=Toolbar(toolitems=[('Home', 'Reset original view', 'home', 'home'), ('Back', 'Back to  previous…"
      ]
     },
     "metadata": {},
     "output_type": "display_data"
    },
    {
     "data": {
      "application/vnd.jupyter.widget-view+json": {
       "model_id": "de78143df6084e61b6ae0d2c63252f38",
       "version_major": 2,
       "version_minor": 0
      },
      "text/plain": [
       "Canvas(toolbar=Toolbar(toolitems=[('Home', 'Reset original view', 'home', 'home'), ('Back', 'Back to  previous…"
      ]
     },
     "metadata": {},
     "output_type": "display_data"
    },
    {
     "data": {
      "application/vnd.jupyter.widget-view+json": {
       "model_id": "f7b288e9dc9e48eea472b7777796fb37",
       "version_major": 2,
       "version_minor": 0
      },
      "text/plain": [
       "Canvas(toolbar=Toolbar(toolitems=[('Home', 'Reset original view', 'home', 'home'), ('Back', 'Back to  previous…"
      ]
     },
     "metadata": {},
     "output_type": "display_data"
    }
   ],
   "source": [
    "def ts_ns_to_seconds(ts_ns):\n",
    "    k_ns_per_s = 1e9;\n",
    "    return ts_ns / k_ns_per_s;\n",
    "\n",
    "def convert_est_to_traj(trajectory):\n",
    "    ts = ts_ns_to_seconds(trajectory[:,0])\n",
    "    xyz = trajectory[:,1:4]\n",
    "    wxyz = trajectory[:,4:8]\n",
    "    return PoseTrajectory3D(positions_xyz = xyz, orientations_quat_wxyz = wxyz, timestamps = ts)\n",
    "\n",
    "def convert_gt_to_traj(trajectory):\n",
    "    ts = trajectory[:,0]\n",
    "    xyz = trajectory[:,1:4]\n",
    "    wxyz = trajectory[:,4:8]\n",
    "    return PoseTrajectory3D(positions_xyz = xyz, orientations_quat_wxyz = wxyz, timestamps = ts)\n",
    "\n",
    "idx = 0\n",
    "\n",
    "print(f'=== Maplab ===========================================================')\n",
    "est_traj = convert_est_to_traj(est_trajectories[idx])\n",
    "gt_traj = convert_gt_to_traj(gt_trajectories[idx])\n",
    "gt_traj, est_traj = sync.associate_trajectories(gt_traj, est_traj, max_diff)\n",
    "est_traj.align(gt_traj, correct_scale=False, correct_only_scale=False)\n",
    "\n",
    "data = (gt_traj, est_traj)\n",
    "perform_evaluation_using_data(data, delta, delta_unit, all_pairs)"
   ]
  }
 ],
 "metadata": {
  "kernelspec": {
   "display_name": "Python 3",
   "language": "python",
   "name": "python3"
  },
  "language_info": {
   "codemirror_mode": {
    "name": "ipython",
    "version": 3
   },
   "file_extension": ".py",
   "mimetype": "text/x-python",
   "name": "python",
   "nbconvert_exporter": "python",
   "pygments_lexer": "ipython3",
   "version": "3.6.9"
  }
 },
 "nbformat": 4,
 "nbformat_minor": 4
}
